{
 "cells": [
  {
   "cell_type": "code",
   "execution_count": 1,
   "metadata": {},
   "outputs": [],
   "source": [
    "import pandas as pd\n",
    "import numpy as np\n",
    "import matplotlib.pyplot as plt\n",
    "import seaborn as sns\n",
    "\n",
    "\n",
    "plt.rcParams[\"figure.figsize\"] = (8, 10)"
   ]
  },
  {
   "cell_type": "code",
   "execution_count": 2,
   "metadata": {},
   "outputs": [],
   "source": [
    "train = pd.read_csv('Train.csv')\n",
    "test = pd.read_csv('Test.csv')\n",
    "submission = pd.read_csv('SampleSubmission.csv')"
   ]
  },
  {
   "cell_type": "code",
   "execution_count": 3,
   "metadata": {},
   "outputs": [
    {
     "data": {
      "text/plain": [
       "((8523, 12), (5681, 11))"
      ]
     },
     "execution_count": 3,
     "metadata": {},
     "output_type": "execute_result"
    }
   ],
   "source": [
    "# checking the columns and rows of data\n",
    "train.shape, test.shape\n"
   ]
  },
  {
   "cell_type": "code",
   "execution_count": 4,
   "metadata": {},
   "outputs": [
    {
     "data": {
      "text/plain": [
       "(Index(['Item_Identifier', 'Item_Weight', 'Item_Fat_Content', 'Item_Visibility',\n",
       "        'Item_Type', 'Item_MRP', 'Outlet_Identifier',\n",
       "        'Outlet_Establishment_Year', 'Outlet_Size', 'Outlet_Location_Type',\n",
       "        'Outlet_Type', 'Item_Outlet_Sales'],\n",
       "       dtype='object'),\n",
       " Index(['Item_Identifier', 'Item_Weight', 'Item_Fat_Content', 'Item_Visibility',\n",
       "        'Item_Type', 'Item_MRP', 'Outlet_Identifier',\n",
       "        'Outlet_Establishment_Year', 'Outlet_Size', 'Outlet_Location_Type',\n",
       "        'Outlet_Type'],\n",
       "       dtype='object'))"
      ]
     },
     "execution_count": 4,
     "metadata": {},
     "output_type": "execute_result"
    }
   ],
   "source": [
    "# checking the features (columns) names of the data\n",
    "train.columns, test.columns"
   ]
  },
  {
   "cell_type": "code",
   "execution_count": 5,
   "metadata": {},
   "outputs": [
    {
     "name": "stdout",
     "output_type": "stream",
     "text": [
      "<class 'pandas.core.frame.DataFrame'>\n",
      "RangeIndex: 8523 entries, 0 to 8522\n",
      "Data columns (total 12 columns):\n",
      "Item_Identifier              8523 non-null object\n",
      "Item_Weight                  7060 non-null float64\n",
      "Item_Fat_Content             8523 non-null object\n",
      "Item_Visibility              8523 non-null float64\n",
      "Item_Type                    8523 non-null object\n",
      "Item_MRP                     8523 non-null float64\n",
      "Outlet_Identifier            8523 non-null object\n",
      "Outlet_Establishment_Year    8523 non-null int64\n",
      "Outlet_Size                  6113 non-null object\n",
      "Outlet_Location_Type         8523 non-null object\n",
      "Outlet_Type                  8523 non-null object\n",
      "Item_Outlet_Sales            8523 non-null float64\n",
      "dtypes: float64(4), int64(1), object(7)\n",
      "memory usage: 566.0+ KB\n",
      "<class 'pandas.core.frame.DataFrame'>\n",
      "RangeIndex: 5681 entries, 0 to 5680\n",
      "Data columns (total 11 columns):\n",
      "Item_Identifier              5681 non-null object\n",
      "Item_Weight                  4705 non-null float64\n",
      "Item_Fat_Content             5681 non-null object\n",
      "Item_Visibility              5681 non-null float64\n",
      "Item_Type                    5681 non-null object\n",
      "Item_MRP                     5681 non-null float64\n",
      "Outlet_Identifier            5681 non-null object\n",
      "Outlet_Establishment_Year    5681 non-null int64\n",
      "Outlet_Size                  4075 non-null object\n",
      "Outlet_Location_Type         5681 non-null object\n",
      "Outlet_Type                  5681 non-null object\n",
      "dtypes: float64(3), int64(1), object(7)\n",
      "memory usage: 332.9+ KB\n"
     ]
    },
    {
     "data": {
      "text/plain": [
       "(None, None)"
      ]
     },
     "execution_count": 5,
     "metadata": {},
     "output_type": "execute_result"
    }
   ],
   "source": [
    "# structure of data\n",
    "train.info(), test.info()"
   ]
  },
  {
   "cell_type": "code",
   "execution_count": 6,
   "metadata": {},
   "outputs": [
    {
     "data": {
      "text/plain": [
       "(14204, 12)"
      ]
     },
     "execution_count": 6,
     "metadata": {},
     "output_type": "execute_result"
    }
   ],
   "source": [
    "# combine train and test\n",
    "# to explore in any data science competition, it is advisable to append test data to the train data to sav time and effort\n",
    "# later we can split the combined data back t train and test\n",
    "# so combine the train and test and carry out visualization, feature engineering, one-hot encoding and label encodeing\n",
    "\n",
    "combi = pd.merge(train, test, how='outer')\n",
    "combi.shape"
   ]
  },
  {
   "cell_type": "markdown",
   "metadata": {},
   "source": [
    "# Univariate Analysis"
   ]
  },
  {
   "cell_type": "code",
   "execution_count": 7,
   "metadata": {},
   "outputs": [],
   "source": [
    "plt.style = 'ggplot'"
   ]
  },
  {
   "cell_type": "code",
   "execution_count": 8,
   "metadata": {},
   "outputs": [
    {
     "data": {
      "image/png": "[encoded data removed]",
      "text/plain": [
       "<Figure size 432x288 with 1 Axes>"
      ]
     },
     "metadata": {},
     "output_type": "display_data"
    }
   ],
   "source": [
    "# Explore data Visually to understand the nature of data i terms of distribution of\n",
    "# the individual variables/features, finding missing values, relationship with other variables and many others\n",
    "# univariate EDA involves exploring features individually. continuous variables should be done using histogram\n",
    "# though it is not compulsory and categorical featurs with bar plots\n",
    "\n",
    "# Since our target variable is continuous, we can visualize by plotting its histogram\n",
    "\n",
    "plt.hist(train['Item_Outlet_Sales'], bins=100, fill='darkgreen')\n",
    "plt.xlabel('Item_Outlet_Sales')\n",
    "plt.ylabel('count')\n",
    "plt.title('Histogram of Item_Outlet_Sales')\n",
    "plt.show()\n",
    "\n",
    "# the plot shows the feature is right skewd and would need some data transformation to treat its skewness"
   ]
  },
  {
   "cell_type": "code",
   "execution_count": 9,
   "metadata": {},
   "outputs": [
    {
     "data": {
      "text/plain": [
       "Text(0.5,1,'Histogram of Item_Weight')"
      ]
     },
     "execution_count": 9,
     "metadata": {},
     "output_type": "execute_result"
    },
    {
     "data": {
      "image/png": "[encoded data removed]",
      "text/plain": [
       "<Figure size 432x288 with 1 Axes>"
      ]
     },
     "metadata": {},
     "output_type": "display_data"
    }
   ],
   "source": [
    "# independent Variables (Numeric variables)\n",
    "# histogram helps us to visualize the distribution of the variable\n",
    "Item_Weight = combi['Item_Weight']\n",
    "fig, ax = plt.subplots()\n",
    "ax.hist(Item_Weight.dropna(), color='blue', bins=50, alpha=0.9)\n",
    "plt.xlabel('Item_Weight')\n",
    "plt.ylabel('count')\n",
    "plt.title('Histogram of Item_Weight')\n",
    "\n",
    "# There seems to be no clear-cut pattern in Item_Weight"
   ]
  },
  {
   "cell_type": "code",
   "execution_count": 10,
   "metadata": {},
   "outputs": [
    {
     "data": {
      "text/plain": [
       "Text(0.5,1,'Histogram of Item_Visibility')"
      ]
     },
     "execution_count": 10,
     "metadata": {},
     "output_type": "execute_result"
    },
    {
     "data": {
      "image/png": "[encoded data removed]",
      "text/plain": [
       "<Figure size 432x288 with 1 Axes>"
      ]
     },
     "metadata": {},
     "output_type": "display_data"
    }
   ],
   "source": [
    "Item_Visibility = combi['Item_Visibility']\n",
    "fig, ax = plt.subplots()\n",
    "ax.hist(Item_Visibility.dropna(), color='green', bins=80, alpha=0.9)\n",
    "plt.xlabel('Item_Visibility')\n",
    "plt.ylabel('count')\n",
    "plt.title('Histogram of Item_Visibility')\n",
    "\n",
    "# Item_Visibility is right skewed and should be transformed t curb its skewness"
   ]
  },
  {
   "cell_type": "code",
   "execution_count": 11,
   "metadata": {},
   "outputs": [
    {
     "data": {
      "text/plain": [
       "Text(0.5,1,'Histogram of Item_MRP')"
      ]
     },
     "execution_count": 11,
     "metadata": {},
     "output_type": "execute_result"
    },
    {
     "data": {
      "image/png": "[encoded data removed]",
      "text/plain": [
       "<Figure size 432x288 with 1 Axes>"
      ]
     },
     "metadata": {},
     "output_type": "display_data"
    }
   ],
   "source": [
    "Item_MRP = combi['Item_MRP']\n",
    "fig, ax = plt.subplots()\n",
    "ax.hist(Item_MRP.dropna(), color='red', bins=90, alpha=0.9)\n",
    "plt.xlabel('Item_MRP')\n",
    "plt.ylabel('count')\n",
    "plt.title('Histogram of Item_MRP')\n",
    "\n",
    "# We can clearly see 4 different distributions for Item_Mrp. it is an intresting insight"
   ]
  },
  {
   "cell_type": "code",
   "execution_count": 12,
   "metadata": {},
   "outputs": [
    {
     "data": {
      "text/plain": [
       "Text(0.5,1,'Histogram of Item_Fat_Content')"
      ]
     },
     "execution_count": 12,
     "metadata": {},
     "output_type": "execute_result"
    },
    {
     "data": {
      "image/png": "[encoded data removed]",
      "text/plain": [
       "<Figure size 432x288 with 1 Axes>"
      ]
     },
     "metadata": {},
     "output_type": "display_data"
    }
   ],
   "source": [
    "# Gaining insights from categorical variable which can only have a finite set of values\n",
    "# lets plot the Item_Fat_Content\n",
    "\n",
    "combi['Item_Fat_Content'].value_counts().plot(kind='bar')\n",
    "\n",
    "plt.xlabel('Item_Fat_Content')\n",
    "plt.ylabel('count')\n",
    "plt.title('Histogram of Item_Fat_Content')\n",
    "\n",
    "# Item_Fat_Content"
   ]
  },
  {
   "cell_type": "code",
   "execution_count": 13,
   "metadata": {},
   "outputs": [
    {
     "name": "stderr",
     "output_type": "stream",
     "text": [
      "C:\\Users\\A.A.O\\Anaconda3\\lib\\site-packages\\ipykernel_launcher.py:4: SettingWithCopyWarning: \n",
      "A value is trying to be set on a copy of a slice from a DataFrame\n",
      "\n",
      "See the caveats in the documentation: http://pandas.pydata.org/pandas-docs/stable/indexing.html#indexing-view-versus-copy\n",
      "  after removing the cwd from sys.path.\n",
      "C:\\Users\\A.A.O\\Anaconda3\\lib\\site-packages\\ipykernel_launcher.py:5: SettingWithCopyWarning: \n",
      "A value is trying to be set on a copy of a slice from a DataFrame\n",
      "\n",
      "See the caveats in the documentation: http://pandas.pydata.org/pandas-docs/stable/indexing.html#indexing-view-versus-copy\n",
      "  \"\"\"\n",
      "C:\\Users\\A.A.O\\Anaconda3\\lib\\site-packages\\ipykernel_launcher.py:8: SettingWithCopyWarning: \n",
      "A value is trying to be set on a copy of a slice from a DataFrame\n",
      "\n",
      "See the caveats in the documentation: http://pandas.pydata.org/pandas-docs/stable/indexing.html#indexing-view-versus-copy\n",
      "  \n"
     ]
    },
    {
     "data": {
      "text/plain": [
       "Text(0.5,1,'Bar Chart of Item_Fat_Content')"
      ]
     },
     "execution_count": 13,
     "metadata": {},
     "output_type": "execute_result"
    },
    {
     "data": {
      "image/png": "[encoded data removed]",
      "text/plain": [
       "<Figure size 432x288 with 1 Axes>"
      ]
     },
     "metadata": {},
     "output_type": "display_data"
    }
   ],
   "source": [
    "# in the figure LF, Low Fat and low fat are same category and Regular and reg are also the same\n",
    "# we can combine this and plot again\n",
    "\n",
    "combi.Item_Fat_Content[combi['Item_Fat_Content'] == 'LF'] = 'Low Fat'\n",
    "combi.Item_Fat_Content[combi['Item_Fat_Content'] == 'low fat'] = 'Low Fat'\n",
    "\n",
    "# for regular\n",
    "combi.Item_Fat_Content[combi['Item_Fat_Content'] == 'reg'] = 'Regular'\n",
    "\n",
    "# plot again\n",
    "\n",
    "combi['Item_Fat_Content'].value_counts().plot(kind='bar')\n",
    "\n",
    "plt.xlabel('Item_Fat_Content')\n",
    "plt.ylabel('count')\n",
    "plt.title('Bar Chart of Item_Fat_Content')\n"
   ]
  },
  {
   "cell_type": "code",
   "execution_count": 14,
   "metadata": {},
   "outputs": [
    {
     "data": {
      "text/plain": [
       "Text(0.5,1,'Bar Chart of Item_Fat_Content')"
      ]
     },
     "execution_count": 14,
     "metadata": {},
     "output_type": "execute_result"
    },
    {
     "data": {
      "image/png": "[encoded data removed]",
      "text/plain": [
       "<Figure size 432x288 with 1 Axes>"
      ]
     },
     "metadata": {},
     "output_type": "display_data"
    }
   ],
   "source": [
    "# plot for Item_Type\n",
    "\n",
    "combi['Item_Type'].value_counts().plot(kind='bar')\n",
    "\n",
    "plt.xlabel('Item_Fat_Content')\n",
    "plt.ylabel('count')\n",
    "plt.title('Bar Chart of Item_Fat_Content')\n"
   ]
  },
  {
   "cell_type": "code",
   "execution_count": 15,
   "metadata": {},
   "outputs": [
    {
     "data": {
      "text/plain": [
       "<matplotlib.axes._subplots.AxesSubplot at 0x7c85c50>"
      ]
     },
     "execution_count": 15,
     "metadata": {},
     "output_type": "execute_result"
    },
    {
     "data": {
      "image/png": "[encoded data removed]",
      "text/plain": [
       "<Figure size 432x288 with 1 Axes>"
      ]
     },
     "metadata": {},
     "output_type": "display_data"
    }
   ],
   "source": [
    "# plot for Outlet_Identifier\n",
    "\n",
    "combi['Outlet_Identifier'].value_counts().plot(kind='bar')"
   ]
  },
  {
   "cell_type": "code",
   "execution_count": 16,
   "metadata": {},
   "outputs": [
    {
     "data": {
      "text/plain": [
       "<matplotlib.axes._subplots.AxesSubplot at 0x94d8570>"
      ]
     },
     "execution_count": 16,
     "metadata": {},
     "output_type": "execute_result"
    },
    {
     "data": {
      "image/png": "[encoded data removed]",
      "text/plain": [
       "<Figure size 432x288 with 1 Axes>"
      ]
     },
     "metadata": {},
     "output_type": "display_data"
    }
   ],
   "source": [
    "# plot for Outlet_Size\n",
    "\n",
    "combi['Outlet_Size'].value_counts().plot(kind='bar')"
   ]
  },
  {
   "cell_type": "code",
   "execution_count": 17,
   "metadata": {},
   "outputs": [
    {
     "data": {
      "text/plain": [
       "<matplotlib.axes._subplots.AxesSubplot at 0x96243d0>"
      ]
     },
     "execution_count": 17,
     "metadata": {},
     "output_type": "execute_result"
    },
    {
     "data": {
      "image/png": "[encoded data removed]",
      "text/plain": [
       "<Figure size 432x288 with 1 Axes>"
      ]
     },
     "metadata": {},
     "output_type": "display_data"
    }
   ],
   "source": [
    "# plot for Establishment_Year\n",
    "combi.Outlet_Establishment_Year.value_counts().plot(kind = 'bar')"
   ]
  },
  {
   "cell_type": "code",
   "execution_count": 18,
   "metadata": {},
   "outputs": [
    {
     "data": {
      "text/plain": [
       "<matplotlib.axes._subplots.AxesSubplot at 0x95567b0>"
      ]
     },
     "execution_count": 18,
     "metadata": {},
     "output_type": "execute_result"
    },
    {
     "data": {
      "image/png": "[encoded data removed]",
      "text/plain": [
       "<Figure size 432x288 with 1 Axes>"
      ]
     },
     "metadata": {},
     "output_type": "display_data"
    }
   ],
   "source": [
    "# plot for Outlet_Type\n",
    "combi['Outlet_Type'].value_counts().plot(kind='bar')"
   ]
  },
  {
   "cell_type": "markdown",
   "metadata": {},
   "source": [
    "# Bivariate Analysis "
   ]
  },
  {
   "cell_type": "code",
   "execution_count": 19,
   "metadata": {},
   "outputs": [
    {
     "data": {
      "text/plain": [
       "(14204, 12)"
      ]
     },
     "execution_count": 19,
     "metadata": {},
     "output_type": "execute_result"
    }
   ],
   "source": [
    "# in Bivariate Analysis we will explore the independent variables with respect to the target variable.\n",
    "# this hepls to discover hidden patterns between independent and target variable.\n",
    "# we can then use those findings to deal with missing data imputation and feature engineering\n",
    "\n",
    "# scatter plots is advisable for the continuous or numeric features while violin plots for categorical\n",
    "\n",
    "combi.shape"
   ]
  },
  {
   "cell_type": "code",
   "execution_count": 20,
   "metadata": {},
   "outputs": [
    {
     "data": {
      "text/plain": [
       "(Text(0.5,0,'Item_Weight'),\n",
       " Text(0,0.5,'Item_Outlet_Sales'),\n",
       " Text(0.5,1,'Item_Weight vs Item_Outlet_Sales'))"
      ]
     },
     "execution_count": 20,
     "metadata": {},
     "output_type": "execute_result"
    },
    {
     "data": {
      "image/png": "[encoded data removed]",
      "text/plain": [
       "<Figure size 432x288 with 1 Axes>"
      ]
     },
     "metadata": {},
     "output_type": "display_data"
    }
   ],
   "source": [
    "########################## TARGET VARIABLE VS INDEPENDENT VARIABLE ###############################\n",
    "\n",
    "# Item_Weight vs Item_Outlet_Sales\n",
    "plt.scatter(combi['Item_Weight'], combi['Item_Outlet_Sales'], c='violet', alpha=0.3, marker='.')\n",
    "plt.xlabel('Item_Weight'), plt.ylabel('Item_Outlet_Sales'), plt.title('Item_Weight vs Item_Outlet_Sales')\n",
    "\n",
    "######################## Item_Outlet_Sales is spread well across the entirerang"
   ]
  },
  {
   "cell_type": "code",
   "execution_count": 21,
   "metadata": {},
   "outputs": [
    {
     "data": {
      "text/plain": [
       "(Text(0.5,0,'Item_Visibility'),\n",
       " Text(0,0.5,'Item_Outlet_Sales'),\n",
       " Text(0.5,1,'Item_Visibility vs Item_Outlet_Sales'))"
      ]
     },
     "execution_count": 21,
     "metadata": {},
     "output_type": "execute_result"
    },
    {
     "data": {
      "image/png": "[encoded data removed]",
      "text/plain": [
       "<Figure size 432x288 with 1 Axes>"
      ]
     },
     "metadata": {},
     "output_type": "display_data"
    }
   ],
   "source": [
    "\n",
    "# Item_Visibility vs Item_Outlet_Sales\n",
    "plt.scatter(combi['Item_Visibility'], combi['Item_Outlet_Sales'], c='violet', alpha=0.3, marker='.')\n",
    "plt.xlabel('Item_Visibility'), plt.ylabel('Item_Outlet_Sales'), plt.title('Item_Visibility vs Item_Outlet_Sales')\n",
    "\n",
    "# There is a string of point at 0.0 for Item_visibility which is not possible more into this soon."
   ]
  },
  {
   "cell_type": "code",
   "execution_count": 22,
   "metadata": {},
   "outputs": [
    {
     "data": {
      "text/plain": [
       "(Text(0.5,0,'Item_MRP'),\n",
       " Text(0,0.5,'Item_Outlet_Sales'),\n",
       " Text(0.5,1,'Item_MRP vs Item_Outlet_Sales'))"
      ]
     },
     "execution_count": 22,
     "metadata": {},
     "output_type": "execute_result"
    },
    {
     "data": {
      "image/png": "[encoded data removed]",
      "text/plain": [
       "<Figure size 432x288 with 1 Axes>"
      ]
     },
     "metadata": {},
     "output_type": "display_data"
    }
   ],
   "source": [
    "\n",
    "# Item_MRP vs Item_Outlet_Sales\n",
    "plt.scatter(combi['Item_MRP'], combi['Item_Outlet_Sales'], c='violet', alpha=0.3, marker='.')\n",
    "plt.xlabel('Item_MRP'), plt.ylabel('Item_Outlet_Sales'), plt.title('Item_MRP vs Item_Outlet_Sales')\n",
    "\n",
    "# here we can clearly see 4 segments of prices that can be used in feature engineering"
   ]
  },
  {
   "cell_type": "code",
   "execution_count": 23,
   "metadata": {},
   "outputs": [
    {
     "data": {
      "text/plain": [
       "(array([ 0,  1,  2,  3,  4,  5,  6,  7,  8,  9, 10, 11, 12, 13, 14, 15]),\n",
       " <a list of 16 Text xticklabel objects>)"
      ]
     },
     "execution_count": 23,
     "metadata": {},
     "output_type": "execute_result"
    },
    {
     "data": {
      "image/png": "[encoded data removed]",
      "text/plain": [
       "<Figure size 432x288 with 1 Axes>"
      ]
     },
     "metadata": {},
     "output_type": "display_data"
    }
   ],
   "source": [
    "# Visualize Categorical Variables\n",
    "\n",
    "# check the distribution of the target across all categorical\n",
    "\n",
    "# violin and boxplot would fit in perfectly, i used violin as it shows full distribution\n",
    "# the width of a violin at a particular level indicates the concentration or density of data target\n",
    "# the height tells us about the range of the largest variable values\n",
    "\n",
    "sns.violinplot(combi['Item_Type'], combi['Item_Outlet_Sales'])\n",
    "plt.xticks(rotation=90)\n"
   ]
  },
  {
   "cell_type": "code",
   "execution_count": 24,
   "metadata": {},
   "outputs": [
    {
     "name": "stderr",
     "output_type": "stream",
     "text": [
      "C:\\Users\\A.A.O\\Anaconda3\\lib\\site-packages\\ipykernel_launcher.py:1: SettingWithCopyWarning: \n",
      "A value is trying to be set on a copy of a slice from a DataFrame\n",
      "\n",
      "See the caveats in the documentation: http://pandas.pydata.org/pandas-docs/stable/indexing.html#indexing-view-versus-copy\n",
      "  \"\"\"Entry point for launching an IPython kernel.\n",
      "C:\\Users\\A.A.O\\Anaconda3\\lib\\site-packages\\ipykernel_launcher.py:2: SettingWithCopyWarning: \n",
      "A value is trying to be set on a copy of a slice from a DataFrame\n",
      "\n",
      "See the caveats in the documentation: http://pandas.pydata.org/pandas-docs/stable/indexing.html#indexing-view-versus-copy\n",
      "  \n",
      "C:\\Users\\A.A.O\\Anaconda3\\lib\\site-packages\\ipykernel_launcher.py:5: SettingWithCopyWarning: \n",
      "A value is trying to be set on a copy of a slice from a DataFrame\n",
      "\n",
      "See the caveats in the documentation: http://pandas.pydata.org/pandas-docs/stable/indexing.html#indexing-view-versus-copy\n",
      "  \"\"\"\n"
     ]
    },
    {
     "data": {
      "text/plain": [
       "(array([0, 1]), <a list of 2 Text xticklabel objects>)"
      ]
     },
     "execution_count": 24,
     "metadata": {},
     "output_type": "execute_result"
    },
    {
     "data": {
      "image/png": "[encoded data removed]",
      "text/plain": [
       "<Figure size 432x288 with 1 Axes>"
      ]
     },
     "metadata": {},
     "output_type": "display_data"
    }
   ],
   "source": [
    "combi.Item_Fat_Content[combi['Item_Fat_Content'] == 'LF'] = 'Low Fat'\n",
    "combi.Item_Fat_Content[combi['Item_Fat_Content'] == 'low fat'] = 'Low Fat'\n",
    "\n",
    "\n",
    "combi.Item_Fat_Content[combi['Item_Fat_Content'] == 'reg'] = 'Regular'\n",
    "\n",
    "sns.violinplot(combi['Item_Fat_Content'], combi['Item_Outlet_Sales'])\n",
    "plt.xticks(rotation=90)"
   ]
  },
  {
   "cell_type": "code",
   "execution_count": 25,
   "metadata": {},
   "outputs": [
    {
     "data": {
      "text/plain": [
       "(array([0, 1, 2, 3, 4, 5, 6, 7, 8, 9]), <a list of 10 Text xticklabel objects>)"
      ]
     },
     "execution_count": 25,
     "metadata": {},
     "output_type": "execute_result"
    },
    {
     "data": {
      "image/png": "[encoded data removed]",
      "text/plain": [
       "<Figure size 432x288 with 1 Axes>"
      ]
     },
     "metadata": {},
     "output_type": "display_data"
    }
   ],
   "source": [
    "\n",
    "sns.violinplot(combi['Outlet_Identifier'], combi['Item_Outlet_Sales'])\n",
    "plt.xticks(rotation=90)"
   ]
  },
  {
   "cell_type": "code",
   "execution_count": 26,
   "metadata": {},
   "outputs": [
    {
     "data": {
      "text/plain": [
       "(array([0, 1, 2]), <a list of 3 Text xticklabel objects>)"
      ]
     },
     "execution_count": 26,
     "metadata": {},
     "output_type": "execute_result"
    },
    {
     "data": {
      "image/png": "[encoded data removed]",
      "text/plain": [
       "<Figure size 432x288 with 1 Axes>"
      ]
     },
     "metadata": {},
     "output_type": "display_data"
    }
   ],
   "source": [
    "\n",
    "sns.violinplot(combi['Outlet_Size'], combi['Item_Outlet_Sales'])\n",
    "plt.xticks(rotation=90)"
   ]
  },
  {
   "cell_type": "code",
   "execution_count": 27,
   "metadata": {},
   "outputs": [
    {
     "data": {
      "text/plain": [
       "(array([0, 1, 2]), <a list of 3 Text xticklabel objects>)"
      ]
     },
     "execution_count": 27,
     "metadata": {},
     "output_type": "execute_result"
    },
    {
     "data": {
      "image/png": "[encoded data removed]",
      "text/plain": [
       "<Figure size 432x288 with 1 Axes>"
      ]
     },
     "metadata": {},
     "output_type": "display_data"
    }
   ],
   "source": [
    "\n",
    "sns.violinplot(combi['Outlet_Location_Type'], combi['Item_Outlet_Sales'])\n",
    "plt.xticks(rotation=90)"
   ]
  },
  {
   "cell_type": "code",
   "execution_count": 28,
   "metadata": {},
   "outputs": [
    {
     "data": {
      "text/plain": [
       "(array([0, 1, 2, 3]), <a list of 4 Text xticklabel objects>)"
      ]
     },
     "execution_count": 28,
     "metadata": {},
     "output_type": "execute_result"
    },
    {
     "data": {
      "image/png": "[encoded data removed]",
      "text/plain": [
       "<Figure size 432x288 with 1 Axes>"
      ]
     },
     "metadata": {},
     "output_type": "display_data"
    }
   ],
   "source": [
    "\n",
    "sns.violinplot(combi['Outlet_Type'], combi['Item_Outlet_Sales'])\n",
    "plt.xticks(rotation=90)"
   ]
  },
  {
   "cell_type": "markdown",
   "metadata": {},
   "source": [
    "#### Dealing with Missing Values"
   ]
  },
  {
   "cell_type": "code",
   "execution_count": 29,
   "metadata": {},
   "outputs": [
    {
     "data": {
      "text/plain": [
       "Item_Identifier                 0\n",
       "Item_Weight                  2439\n",
       "Item_Fat_Content                0\n",
       "Item_Visibility                 0\n",
       "Item_Type                       0\n",
       "Item_MRP                        0\n",
       "Outlet_Identifier               0\n",
       "Outlet_Establishment_Year       0\n",
       "Outlet_Size                  4016\n",
       "Outlet_Location_Type            0\n",
       "Outlet_Type                     0\n",
       "Item_Outlet_Sales            5681\n",
       "dtype: int64"
      ]
     },
     "execution_count": 29,
     "metadata": {},
     "output_type": "execute_result"
    }
   ],
   "source": [
    "combi.isnull().sum()"
   ]
  },
  {
   "cell_type": "code",
   "execution_count": 30,
   "metadata": {},
   "outputs": [
    {
     "name": "stdout",
     "output_type": "stream",
     "text": [
      "<class 'pandas.core.frame.DataFrame'>\n",
      "Int64Index: 14204 entries, 0 to 14203\n",
      "Data columns (total 12 columns):\n",
      "Item_Identifier              14204 non-null object\n",
      "Item_Weight                  11765 non-null float64\n",
      "Item_Fat_Content             14204 non-null object\n",
      "Item_Visibility              14204 non-null float64\n",
      "Item_Type                    14204 non-null object\n",
      "Item_MRP                     14204 non-null float64\n",
      "Outlet_Identifier            14204 non-null object\n",
      "Outlet_Establishment_Year    14204 non-null int64\n",
      "Outlet_Size                  10188 non-null object\n",
      "Outlet_Location_Type         14204 non-null object\n",
      "Outlet_Type                  14204 non-null object\n",
      "Item_Outlet_Sales            8523 non-null float64\n",
      "dtypes: float64(4), int64(1), object(7)\n",
      "memory usage: 1.5+ MB\n"
     ]
    }
   ],
   "source": [
    "combi.info()"
   ]
  },
  {
   "cell_type": "code",
   "execution_count": 31,
   "metadata": {},
   "outputs": [
    {
     "data": {
      "text/plain": [
       "Item_Identifier                 0\n",
       "Item_Weight                     0\n",
       "Item_Fat_Content                0\n",
       "Item_Visibility                 0\n",
       "Item_Type                       0\n",
       "Item_MRP                        0\n",
       "Outlet_Identifier               0\n",
       "Outlet_Establishment_Year       0\n",
       "Outlet_Size                  4016\n",
       "Outlet_Location_Type            0\n",
       "Outlet_Type                     0\n",
       "Item_Outlet_Sales            5681\n",
       "dtype: int64"
      ]
     },
     "execution_count": 31,
     "metadata": {},
     "output_type": "execute_result"
    }
   ],
   "source": [
    "combi['Item_Weight'] = combi['Item_Weight'].fillna(combi['Item_Weight'].median())\n",
    "\n",
    "\n",
    "# test['Item_Weight'] = test['Item_Weight'].fillna(test['Item_Weight'].median())\n",
    "combi.isnull().sum()"
   ]
  },
  {
   "cell_type": "code",
   "execution_count": 32,
   "metadata": {},
   "outputs": [
    {
     "data": {
      "text/plain": [
       "(array([887., 269., 509., 583., 677., 770., 695., 646., 711., 609., 473.,\n",
       "        545., 484., 450., 419., 423., 467., 379., 290., 347., 286., 272.,\n",
       "        281., 203., 222., 236., 216., 220., 150., 166., 165., 101., 115.,\n",
       "         98., 144.,  93., 110.,  98.,  37.,  72.,  19.,  18.,  12.,  18.,\n",
       "         13.,  22.,  11.,  16.,  13.,   8.,  16.,   8.,  13.,   8.,  10.,\n",
       "          2.,   7.,   5.,   4.,  12.,   5.,   7.,  10.,  10.,   4.,   7.,\n",
       "          4.,   0.,   2.,   2.]),\n",
       " array([0.        , 0.0046913 , 0.0093826 , 0.0140739 , 0.0187652 ,\n",
       "        0.0234565 , 0.0281478 , 0.03283909, 0.03753039, 0.04222169,\n",
       "        0.04691299, 0.05160429, 0.05629559, 0.06098689, 0.06567819,\n",
       "        0.07036949, 0.07506079, 0.07975209, 0.08444339, 0.08913469,\n",
       "        0.09382599, 0.09851728, 0.10320858, 0.10789988, 0.11259118,\n",
       "        0.11728248, 0.12197378, 0.12666508, 0.13135638, 0.13604768,\n",
       "        0.14073898, 0.14543028, 0.15012158, 0.15481288, 0.15950417,\n",
       "        0.16419547, 0.16888677, 0.17357807, 0.17826937, 0.18296067,\n",
       "        0.18765197, 0.19234327, 0.19703457, 0.20172587, 0.20641717,\n",
       "        0.21110847, 0.21579977, 0.22049107, 0.22518236, 0.22987366,\n",
       "        0.23456496, 0.23925626, 0.24394756, 0.24863886, 0.25333016,\n",
       "        0.25802146, 0.26271276, 0.26740406, 0.27209536, 0.27678666,\n",
       "        0.28147796, 0.28616925, 0.29086055, 0.29555185, 0.30024315,\n",
       "        0.30493445, 0.30962575, 0.31431705, 0.31900835, 0.32369965,\n",
       "        0.32839095]),\n",
       " <a list of 70 Patch objects>)"
      ]
     },
     "execution_count": 32,
     "metadata": {},
     "output_type": "execute_result"
    },
    {
     "data": {
      "image/png": "[encoded data removed]",
      "text/plain": [
       "<Figure size 432x288 with 1 Axes>"
      ]
     },
     "metadata": {},
     "output_type": "display_data"
    }
   ],
   "source": [
    "# remember Item_Visibility as lots of 0 values which is not possible\n",
    "plt.hist(combi['Item_Visibility'], bins=70, color='grey')"
   ]
  },
  {
   "cell_type": "code",
   "execution_count": 33,
   "metadata": {},
   "outputs": [],
   "source": [
    "# let replace the zeroes and plot again to see the changes\n",
    "zero_index = combi['Item_Visibility'] == 0\n",
    "\n",
    "combi['Item_Visibility'] = combi['Item_Visibility'].replace(0, np.mean(combi.Item_Visibility))\n"
   ]
  },
  {
   "cell_type": "code",
   "execution_count": 34,
   "metadata": {},
   "outputs": [
    {
     "data": {
      "text/plain": [
       "(array([ 188.,  480.,  579.,  642.,  720.,  729.,  647.,  639.,  649.,\n",
       "         579.,  450.,  522.,  428., 1326.,  409.,  461.,  407.,  285.,\n",
       "         340.,  292.,  323.,  269.,  202.,  234.,  206.,  240.,  225.,\n",
       "         174.,  150.,  176.,  123.,  109.,  102.,  130.,  104.,   91.,\n",
       "         129.,   66.,   59.,   44.,   15.,   16.,   13.,   13.,   16.,\n",
       "          24.,    7.,   20.,   10.,   10.,   14.,    9.,   11.,   10.,\n",
       "           7.,    2.,   10.,    2.,    4.,   14.,    5.,    5.,   10.,\n",
       "          10.,    4.,    7.,    4.,    0.,    2.,    2.]),\n",
       " array([0.0035747 , 0.00821493, 0.01285516, 0.01749539, 0.02213563,\n",
       "        0.02677586, 0.03141609, 0.03605632, 0.04069656, 0.04533679,\n",
       "        0.04997702, 0.05461725, 0.05925748, 0.06389772, 0.06853795,\n",
       "        0.07317818, 0.07781841, 0.08245864, 0.08709888, 0.09173911,\n",
       "        0.09637934, 0.10101957, 0.10565981, 0.11030004, 0.11494027,\n",
       "        0.1195805 , 0.12422073, 0.12886097, 0.1335012 , 0.13814143,\n",
       "        0.14278166, 0.14742189, 0.15206213, 0.15670236, 0.16134259,\n",
       "        0.16598282, 0.17062306, 0.17526329, 0.17990352, 0.18454375,\n",
       "        0.18918398, 0.19382422, 0.19846445, 0.20310468, 0.20774491,\n",
       "        0.21238514, 0.21702538, 0.22166561, 0.22630584, 0.23094607,\n",
       "        0.23558631, 0.24022654, 0.24486677, 0.249507  , 0.25414723,\n",
       "        0.25878747, 0.2634277 , 0.26806793, 0.27270816, 0.27734839,\n",
       "        0.28198863, 0.28662886, 0.29126909, 0.29590932, 0.30054956,\n",
       "        0.30518979, 0.30983002, 0.31447025, 0.31911048, 0.32375072,\n",
       "        0.32839095]),\n",
       " <a list of 70 Patch objects>)"
      ]
     },
     "execution_count": 34,
     "metadata": {},
     "output_type": "execute_result"
    },
    {
     "data": {
      "image/png": "[encoded data removed]",
      "text/plain": [
       "<Figure size 432x288 with 1 Axes>"
      ]
     },
     "metadata": {},
     "output_type": "display_data"
    }
   ],
   "source": [
    "plt.hist(combi['Item_Visibility'], bins=70, color='grey')"
   ]
  },
  {
   "cell_type": "markdown",
   "metadata": {},
   "source": [
    "## Feature Engineering "
   ]
  },
  {
   "cell_type": "code",
   "execution_count": 35,
   "metadata": {},
   "outputs": [],
   "source": [
    "perishable = [\"Breads\", \"Breakfast\", \"Dairy\", \"Fruits and Vegetables\",\n",
    "              \"Meat\", \"Seafood\", 'Snack Foods']\n",
    "\n",
    "non_perishable = [\"Baking Goods\", \"Canned\",\"Frozen Foods\", \"Hard Drinks\",\n",
    "                  \"Health and Hygeine\", \"Household\", \"Soft Drinks\"]\n",
    "\n",
    "# create a new feature 'Item_Type_new'\n",
    "Item_Type_new = []\n",
    "for item in combi['Item_Type']:\n",
    "    if item in perishable:\n",
    "        Item_Type_new.append('perishable')\n",
    "    elif item in non_perishable:\n",
    "        Item_Type_new.append('non_perishable')\n",
    "    else:\n",
    "        Item_Type_new.append('not_sure')"
   ]
  },
  {
   "cell_type": "code",
   "execution_count": 36,
   "metadata": {},
   "outputs": [
    {
     "data": {
      "text/plain": [
       "0            perishable\n",
       "1        non_perishable\n",
       "2            perishable\n",
       "3            perishable\n",
       "4        non_perishable\n",
       "5        non_perishable\n",
       "6            perishable\n",
       "7            perishable\n",
       "8        non_perishable\n",
       "9        non_perishable\n",
       "10           perishable\n",
       "11           perishable\n",
       "12           perishable\n",
       "13           perishable\n",
       "14           perishable\n",
       "15           perishable\n",
       "16             not_sure\n",
       "17           perishable\n",
       "18       non_perishable\n",
       "19           perishable\n",
       "20           perishable\n",
       "21       non_perishable\n",
       "22       non_perishable\n",
       "23       non_perishable\n",
       "24       non_perishable\n",
       "25       non_perishable\n",
       "26           perishable\n",
       "27       non_perishable\n",
       "28           perishable\n",
       "29       non_perishable\n",
       "              ...      \n",
       "14174          not_sure\n",
       "14175        perishable\n",
       "14176        perishable\n",
       "14177        perishable\n",
       "14178        perishable\n",
       "14179        perishable\n",
       "14180        perishable\n",
       "14181        perishable\n",
       "14182    non_perishable\n",
       "14183        perishable\n",
       "14184    non_perishable\n",
       "14185        perishable\n",
       "14186    non_perishable\n",
       "14187    non_perishable\n",
       "14188        perishable\n",
       "14189        perishable\n",
       "14190        perishable\n",
       "14191        perishable\n",
       "14192        perishable\n",
       "14193        perishable\n",
       "14194    non_perishable\n",
       "14195    non_perishable\n",
       "14196        perishable\n",
       "14197    non_perishable\n",
       "14198        perishable\n",
       "14199        perishable\n",
       "14200          not_sure\n",
       "14201          not_sure\n",
       "14202    non_perishable\n",
       "14203    non_perishable\n",
       "Name: Item_Type_new, Length: 14204, dtype: object"
      ]
     },
     "execution_count": 36,
     "metadata": {},
     "output_type": "execute_result"
    }
   ],
   "source": [
    "# create a new feature 'Item_Type_new'\n",
    "combi['Item_Type_new'] = Item_Type_new\n",
    "combi['Item_Type_new']"
   ]
  },
  {
   "cell_type": "code",
   "execution_count": 37,
   "metadata": {},
   "outputs": [
    {
     "name": "stdout",
     "output_type": "stream",
     "text": [
      "0    FDA15\n",
      "1    DRC01\n",
      "Name: Item_Identifier, dtype: object\n"
     ]
    }
   ],
   "source": [
    "# compare Item_Type with first 2 characters of Item_Identifier\n",
    "sly = combi['Item_Identifier']\n",
    "print(sly[slice(2)])\n",
    "# combi[['Item_Type', 'Item_Identifier']]"
   ]
  },
  {
   "cell_type": "code",
   "execution_count": 38,
   "metadata": {},
   "outputs": [
    {
     "data": {
      "text/plain": [
       "0    14\n",
       "1     4\n",
       "2    14\n",
       "3    15\n",
       "4    26\n",
       "Name: Outlet_Years, dtype: int64"
      ]
     },
     "execution_count": 38,
     "metadata": {},
     "output_type": "execute_result"
    }
   ],
   "source": [
    "# create a new feature 'Outlet_Years'\n",
    "combi['Outlet_Years'] = 2013 - combi['Outlet_Establishment_Year']\n",
    "combi['Outlet_Years'].head()"
   ]
  },
  {
   "cell_type": "code",
   "execution_count": 39,
   "metadata": {},
   "outputs": [
    {
     "data": {
      "text/plain": [
       "0    26.861204\n",
       "1     8.153581\n",
       "2     8.092457\n",
       "3     9.484115\n",
       "4     6.031512\n",
       "Name: Price_Per_Unit_wt, dtype: float64"
      ]
     },
     "execution_count": 39,
     "metadata": {},
     "output_type": "execute_result"
    }
   ],
   "source": [
    "# create a new feature 'Price_Per_Unit_wt'\n",
    "combi['Price_Per_Unit_wt'] = combi['Item_MRP'] / combi['Item_Weight']\n",
    "combi['Price_Per_Unit_wt'].head()"
   ]
  },
  {
   "cell_type": "code",
   "execution_count": 40,
   "metadata": {},
   "outputs": [
    {
     "data": {
      "text/plain": [
       "dtype('int64')"
      ]
     },
     "execution_count": 40,
     "metadata": {},
     "output_type": "execute_result"
    }
   ],
   "source": [
    "# create a new feature 'Item_MRP_Clusters'\n",
    "# combi['Item_MRP_Clusters']\n",
    "Item_MRP_Clusters = []\n",
    "for item in combi['Item_MRP']:\n",
    "    if item < 69:\n",
    "        Item_MRP_Clusters.append(1)\n",
    "    elif item >= 69 and item < 136:\n",
    "        Item_MRP_Clusters.append(2)\n",
    "    elif item >=136 and item < 203:\n",
    "        Item_MRP_Clusters.append(3)\n",
    "    else:\n",
    "        Item_MRP_Clusters.append(4)\n",
    "combi['Item_MRP_Clusters'] = Item_MRP_Clusters\n",
    "combi['Item_MRP_Clusters'].dtype"
   ]
  },
  {
   "cell_type": "markdown",
   "metadata": {},
   "source": [
    "## Encoding Categorical Variables "
   ]
  },
  {
   "cell_type": "code",
   "execution_count": 41,
   "metadata": {},
   "outputs": [
    {
     "data": {
      "text/plain": [
       "0    1\n",
       "1    1\n",
       "2    1\n",
       "3    2\n",
       "4    2\n",
       "Name: Outlet_Size_num, dtype: int64"
      ]
     },
     "execution_count": 41,
     "metadata": {},
     "output_type": "execute_result"
    }
   ],
   "source": [
    "# There are 2 options to this\n",
    "# ## label encoder -- most useful for ordinal categorical variables\n",
    "# ## one hot encodein -- to get binary form of variables\n",
    "################################ Using Label Code Encoder ###############################\n",
    "\n",
    "Outlet_Size_num = []\n",
    "for item in combi['Outlet_Size']:\n",
    "    if item == 'Small':\n",
    "        Outlet_Size_num.append(0)\n",
    "    elif item == 'Medium':\n",
    "        Outlet_Size_num.append(1)\n",
    "    else:\n",
    "        Outlet_Size_num.append(2)\n",
    "combi['Outlet_Size_num'] = Outlet_Size_num\n",
    "combi['Outlet_Size_num'].head()"
   ]
  },
  {
   "cell_type": "code",
   "execution_count": 42,
   "metadata": {},
   "outputs": [
    {
     "data": {
      "text/plain": [
       "0    2\n",
       "1    0\n",
       "2    2\n",
       "3    0\n",
       "4    0\n",
       "Name: Outlet_Location_Size_num, dtype: int64"
      ]
     },
     "execution_count": 42,
     "metadata": {},
     "output_type": "execute_result"
    }
   ],
   "source": [
    "Outlet_Location_Size_num = []\n",
    "for item in combi['Outlet_Location_Type']:\n",
    "    if item == 'Tier 3':\n",
    "        Outlet_Location_Size_num.append(0)\n",
    "    elif item == 'Tier 2':\n",
    "        Outlet_Location_Size_num.append(1)\n",
    "    else:\n",
    "        Outlet_Location_Size_num.append(2)\n",
    "combi['Outlet_Location_Size_num'] = Outlet_Location_Size_num\n",
    "combi['Outlet_Location_Size_num'].head()"
   ]
  },
  {
   "cell_type": "code",
   "execution_count": 43,
   "metadata": {},
   "outputs": [
    {
     "data": {
      "text/plain": [
       "0    1\n",
       "1    2\n",
       "2    1\n",
       "3    4\n",
       "4    1\n",
       "Name: Outlet_Type_num, dtype: int64"
      ]
     },
     "execution_count": 43,
     "metadata": {},
     "output_type": "execute_result"
    }
   ],
   "source": [
    "Outlet_Type_num = []\n",
    "for item in combi['Outlet_Type']:\n",
    "    if item == 'Supermarket Type1':\n",
    "        Outlet_Type_num.append(1)\n",
    "    elif item == 'Supermarket Type2':\n",
    "        Outlet_Type_num.append(2)\n",
    "    elif item == 'Supermarket Type3':\n",
    "        Outlet_Type_num.append(3)\n",
    "    else:\n",
    "        Outlet_Type_num.append(4)\n",
    "combi['Outlet_Type_num'] = Outlet_Type_num\n",
    "combi['Outlet_Type_num'].head()"
   ]
  },
  {
   "cell_type": "code",
   "execution_count": 44,
   "metadata": {},
   "outputs": [
    {
     "data": {
      "text/plain": [
       "Index(['Item_Identifier', 'Item_Weight', 'Item_Fat_Content', 'Item_Visibility',\n",
       "       'Item_Type', 'Item_MRP', 'Outlet_Identifier',\n",
       "       'Outlet_Establishment_Year', 'Item_Outlet_Sales', 'Item_Type_new',\n",
       "       'Outlet_Years', 'Price_Per_Unit_wt', 'Item_MRP_Clusters',\n",
       "       'Outlet_Size_num', 'Outlet_Location_Size_num', 'Outlet_Type_num'],\n",
       "      dtype='object')"
      ]
     },
     "execution_count": 44,
     "metadata": {},
     "output_type": "execute_result"
    }
   ],
   "source": [
    "# removing categorical variable after label encoding\n",
    "combi = combi.drop(['Outlet_Location_Type', 'Outlet_Size', 'Outlet_Type'], axis=1)\n",
    "combi.columns"
   ]
  },
  {
   "cell_type": "code",
   "execution_count": 45,
   "metadata": {},
   "outputs": [
    {
     "data": {
      "text/html": [
       "<div>\n",
       "<style scoped>\n",
       "    .dataframe tbody tr th:only-of-type {\n",
       "        vertical-align: middle;\n",
       "    }\n",
       "\n",
       "    .dataframe tbody tr th {\n",
       "        vertical-align: top;\n",
       "    }\n",
       "\n",
       "    .dataframe thead th {\n",
       "        text-align: right;\n",
       "    }\n",
       "</style>\n",
       "<table border=\"1\" class=\"dataframe\">\n",
       "  <thead>\n",
       "    <tr style=\"text-align: right;\">\n",
       "      <th></th>\n",
       "      <th>Outlet_Establishment_Year</th>\n",
       "      <th>Item_Type_Baking Goods</th>\n",
       "      <th>Item_Type_Breads</th>\n",
       "      <th>Item_Type_Breakfast</th>\n",
       "      <th>Item_Type_Canned</th>\n",
       "      <th>Item_Type_Dairy</th>\n",
       "      <th>Item_Type_Frozen Foods</th>\n",
       "      <th>Item_Type_Fruits and Vegetables</th>\n",
       "      <th>Item_Type_Hard Drinks</th>\n",
       "      <th>Item_Type_Health and Hygiene</th>\n",
       "      <th>Item_Type_Household</th>\n",
       "      <th>Item_Type_Meat</th>\n",
       "      <th>Item_Type_Others</th>\n",
       "      <th>Item_Type_Seafood</th>\n",
       "      <th>Item_Type_Snack Foods</th>\n",
       "      <th>Item_Type_Soft Drinks</th>\n",
       "      <th>Item_Type_Starchy Foods</th>\n",
       "    </tr>\n",
       "  </thead>\n",
       "  <tbody>\n",
       "    <tr>\n",
       "      <th>0</th>\n",
       "      <td>1999</td>\n",
       "      <td>0</td>\n",
       "      <td>0</td>\n",
       "      <td>0</td>\n",
       "      <td>0</td>\n",
       "      <td>1</td>\n",
       "      <td>0</td>\n",
       "      <td>0</td>\n",
       "      <td>0</td>\n",
       "      <td>0</td>\n",
       "      <td>0</td>\n",
       "      <td>0</td>\n",
       "      <td>0</td>\n",
       "      <td>0</td>\n",
       "      <td>0</td>\n",
       "      <td>0</td>\n",
       "      <td>0</td>\n",
       "    </tr>\n",
       "    <tr>\n",
       "      <th>1</th>\n",
       "      <td>2009</td>\n",
       "      <td>0</td>\n",
       "      <td>0</td>\n",
       "      <td>0</td>\n",
       "      <td>0</td>\n",
       "      <td>0</td>\n",
       "      <td>0</td>\n",
       "      <td>0</td>\n",
       "      <td>0</td>\n",
       "      <td>0</td>\n",
       "      <td>0</td>\n",
       "      <td>0</td>\n",
       "      <td>0</td>\n",
       "      <td>0</td>\n",
       "      <td>0</td>\n",
       "      <td>1</td>\n",
       "      <td>0</td>\n",
       "    </tr>\n",
       "    <tr>\n",
       "      <th>2</th>\n",
       "      <td>1999</td>\n",
       "      <td>0</td>\n",
       "      <td>0</td>\n",
       "      <td>0</td>\n",
       "      <td>0</td>\n",
       "      <td>0</td>\n",
       "      <td>0</td>\n",
       "      <td>0</td>\n",
       "      <td>0</td>\n",
       "      <td>0</td>\n",
       "      <td>0</td>\n",
       "      <td>1</td>\n",
       "      <td>0</td>\n",
       "      <td>0</td>\n",
       "      <td>0</td>\n",
       "      <td>0</td>\n",
       "      <td>0</td>\n",
       "    </tr>\n",
       "    <tr>\n",
       "      <th>3</th>\n",
       "      <td>1998</td>\n",
       "      <td>0</td>\n",
       "      <td>0</td>\n",
       "      <td>0</td>\n",
       "      <td>0</td>\n",
       "      <td>0</td>\n",
       "      <td>0</td>\n",
       "      <td>1</td>\n",
       "      <td>0</td>\n",
       "      <td>0</td>\n",
       "      <td>0</td>\n",
       "      <td>0</td>\n",
       "      <td>0</td>\n",
       "      <td>0</td>\n",
       "      <td>0</td>\n",
       "      <td>0</td>\n",
       "      <td>0</td>\n",
       "    </tr>\n",
       "    <tr>\n",
       "      <th>4</th>\n",
       "      <td>1987</td>\n",
       "      <td>0</td>\n",
       "      <td>0</td>\n",
       "      <td>0</td>\n",
       "      <td>0</td>\n",
       "      <td>0</td>\n",
       "      <td>0</td>\n",
       "      <td>0</td>\n",
       "      <td>0</td>\n",
       "      <td>0</td>\n",
       "      <td>1</td>\n",
       "      <td>0</td>\n",
       "      <td>0</td>\n",
       "      <td>0</td>\n",
       "      <td>0</td>\n",
       "      <td>0</td>\n",
       "      <td>0</td>\n",
       "    </tr>\n",
       "  </tbody>\n",
       "</table>\n",
       "</div>"
      ],
      "text/plain": [
       "   Outlet_Establishment_Year  Item_Type_Baking Goods  Item_Type_Breads  \\\n",
       "0                       1999                       0                 0   \n",
       "1                       2009                       0                 0   \n",
       "2                       1999                       0                 0   \n",
       "3                       1998                       0                 0   \n",
       "4                       1987                       0                 0   \n",
       "\n",
       "   Item_Type_Breakfast  Item_Type_Canned  Item_Type_Dairy  \\\n",
       "0                    0                 0                1   \n",
       "1                    0                 0                0   \n",
       "2                    0                 0                0   \n",
       "3                    0                 0                0   \n",
       "4                    0                 0                0   \n",
       "\n",
       "   Item_Type_Frozen Foods  Item_Type_Fruits and Vegetables  \\\n",
       "0                       0                                0   \n",
       "1                       0                                0   \n",
       "2                       0                                0   \n",
       "3                       0                                1   \n",
       "4                       0                                0   \n",
       "\n",
       "   Item_Type_Hard Drinks  Item_Type_Health and Hygiene  Item_Type_Household  \\\n",
       "0                      0                             0                    0   \n",
       "1                      0                             0                    0   \n",
       "2                      0                             0                    0   \n",
       "3                      0                             0                    0   \n",
       "4                      0                             0                    1   \n",
       "\n",
       "   Item_Type_Meat  Item_Type_Others  Item_Type_Seafood  Item_Type_Snack Foods  \\\n",
       "0               0                 0                  0                      0   \n",
       "1               0                 0                  0                      0   \n",
       "2               1                 0                  0                      0   \n",
       "3               0                 0                  0                      0   \n",
       "4               0                 0                  0                      0   \n",
       "\n",
       "   Item_Type_Soft Drinks  Item_Type_Starchy Foods  \n",
       "0                      0                        0  \n",
       "1                      1                        0  \n",
       "2                      0                        0  \n",
       "3                      0                        0  \n",
       "4                      0                        0  "
      ]
     },
     "execution_count": 45,
     "metadata": {},
     "output_type": "execute_result"
    }
   ],
   "source": [
    "################################# One Nice Hot Encoding -- Baba Dummy ###############################\n",
    "\n",
    "dummy_cols = ['Outlet_Establishment_Year', 'Item_Type']\n",
    "combi_cat = pd.get_dummies(combi[dummy_cols])\n",
    "combi_cat.head()"
   ]
  },
  {
   "cell_type": "code",
   "execution_count": 46,
   "metadata": {},
   "outputs": [
    {
     "data": {
      "text/html": [
       "<div>\n",
       "<style scoped>\n",
       "    .dataframe tbody tr th:only-of-type {\n",
       "        vertical-align: middle;\n",
       "    }\n",
       "\n",
       "    .dataframe tbody tr th {\n",
       "        vertical-align: top;\n",
       "    }\n",
       "\n",
       "    .dataframe thead th {\n",
       "        text-align: right;\n",
       "    }\n",
       "</style>\n",
       "<table border=\"1\" class=\"dataframe\">\n",
       "  <thead>\n",
       "    <tr style=\"text-align: right;\">\n",
       "      <th></th>\n",
       "      <th>Item_Identifier</th>\n",
       "      <th>Item_Weight</th>\n",
       "      <th>Item_Fat_Content</th>\n",
       "      <th>Item_Visibility</th>\n",
       "      <th>Item_MRP</th>\n",
       "      <th>Outlet_Identifier</th>\n",
       "      <th>Item_Outlet_Sales</th>\n",
       "      <th>Item_Type_new</th>\n",
       "      <th>Outlet_Years</th>\n",
       "      <th>Price_Per_Unit_wt</th>\n",
       "      <th>...</th>\n",
       "      <th>Item_Type_Fruits and Vegetables</th>\n",
       "      <th>Item_Type_Hard Drinks</th>\n",
       "      <th>Item_Type_Health and Hygiene</th>\n",
       "      <th>Item_Type_Household</th>\n",
       "      <th>Item_Type_Meat</th>\n",
       "      <th>Item_Type_Others</th>\n",
       "      <th>Item_Type_Seafood</th>\n",
       "      <th>Item_Type_Snack Foods</th>\n",
       "      <th>Item_Type_Soft Drinks</th>\n",
       "      <th>Item_Type_Starchy Foods</th>\n",
       "    </tr>\n",
       "  </thead>\n",
       "  <tbody>\n",
       "    <tr>\n",
       "      <th>0</th>\n",
       "      <td>FDA15</td>\n",
       "      <td>9.30</td>\n",
       "      <td>Low Fat</td>\n",
       "      <td>0.016047</td>\n",
       "      <td>249.8092</td>\n",
       "      <td>OUT049</td>\n",
       "      <td>3735.1380</td>\n",
       "      <td>perishable</td>\n",
       "      <td>14</td>\n",
       "      <td>26.861204</td>\n",
       "      <td>...</td>\n",
       "      <td>0</td>\n",
       "      <td>0</td>\n",
       "      <td>0</td>\n",
       "      <td>0</td>\n",
       "      <td>0</td>\n",
       "      <td>0</td>\n",
       "      <td>0</td>\n",
       "      <td>0</td>\n",
       "      <td>0</td>\n",
       "      <td>0</td>\n",
       "    </tr>\n",
       "    <tr>\n",
       "      <th>1</th>\n",
       "      <td>DRC01</td>\n",
       "      <td>5.92</td>\n",
       "      <td>Regular</td>\n",
       "      <td>0.019278</td>\n",
       "      <td>48.2692</td>\n",
       "      <td>OUT018</td>\n",
       "      <td>443.4228</td>\n",
       "      <td>non_perishable</td>\n",
       "      <td>4</td>\n",
       "      <td>8.153581</td>\n",
       "      <td>...</td>\n",
       "      <td>0</td>\n",
       "      <td>0</td>\n",
       "      <td>0</td>\n",
       "      <td>0</td>\n",
       "      <td>0</td>\n",
       "      <td>0</td>\n",
       "      <td>0</td>\n",
       "      <td>0</td>\n",
       "      <td>1</td>\n",
       "      <td>0</td>\n",
       "    </tr>\n",
       "    <tr>\n",
       "      <th>2</th>\n",
       "      <td>FDN15</td>\n",
       "      <td>17.50</td>\n",
       "      <td>Low Fat</td>\n",
       "      <td>0.016760</td>\n",
       "      <td>141.6180</td>\n",
       "      <td>OUT049</td>\n",
       "      <td>2097.2700</td>\n",
       "      <td>perishable</td>\n",
       "      <td>14</td>\n",
       "      <td>8.092457</td>\n",
       "      <td>...</td>\n",
       "      <td>0</td>\n",
       "      <td>0</td>\n",
       "      <td>0</td>\n",
       "      <td>0</td>\n",
       "      <td>1</td>\n",
       "      <td>0</td>\n",
       "      <td>0</td>\n",
       "      <td>0</td>\n",
       "      <td>0</td>\n",
       "      <td>0</td>\n",
       "    </tr>\n",
       "    <tr>\n",
       "      <th>3</th>\n",
       "      <td>FDX07</td>\n",
       "      <td>19.20</td>\n",
       "      <td>Regular</td>\n",
       "      <td>0.065953</td>\n",
       "      <td>182.0950</td>\n",
       "      <td>OUT010</td>\n",
       "      <td>732.3800</td>\n",
       "      <td>perishable</td>\n",
       "      <td>15</td>\n",
       "      <td>9.484115</td>\n",
       "      <td>...</td>\n",
       "      <td>1</td>\n",
       "      <td>0</td>\n",
       "      <td>0</td>\n",
       "      <td>0</td>\n",
       "      <td>0</td>\n",
       "      <td>0</td>\n",
       "      <td>0</td>\n",
       "      <td>0</td>\n",
       "      <td>0</td>\n",
       "      <td>0</td>\n",
       "    </tr>\n",
       "    <tr>\n",
       "      <th>4</th>\n",
       "      <td>NCD19</td>\n",
       "      <td>8.93</td>\n",
       "      <td>Low Fat</td>\n",
       "      <td>0.065953</td>\n",
       "      <td>53.8614</td>\n",
       "      <td>OUT013</td>\n",
       "      <td>994.7052</td>\n",
       "      <td>non_perishable</td>\n",
       "      <td>26</td>\n",
       "      <td>6.031512</td>\n",
       "      <td>...</td>\n",
       "      <td>0</td>\n",
       "      <td>0</td>\n",
       "      <td>0</td>\n",
       "      <td>1</td>\n",
       "      <td>0</td>\n",
       "      <td>0</td>\n",
       "      <td>0</td>\n",
       "      <td>0</td>\n",
       "      <td>0</td>\n",
       "      <td>0</td>\n",
       "    </tr>\n",
       "  </tbody>\n",
       "</table>\n",
       "<p>5 rows × 31 columns</p>\n",
       "</div>"
      ],
      "text/plain": [
       "  Item_Identifier  Item_Weight Item_Fat_Content  Item_Visibility  Item_MRP  \\\n",
       "0           FDA15         9.30          Low Fat         0.016047  249.8092   \n",
       "1           DRC01         5.92          Regular         0.019278   48.2692   \n",
       "2           FDN15        17.50          Low Fat         0.016760  141.6180   \n",
       "3           FDX07        19.20          Regular         0.065953  182.0950   \n",
       "4           NCD19         8.93          Low Fat         0.065953   53.8614   \n",
       "\n",
       "  Outlet_Identifier  Item_Outlet_Sales   Item_Type_new  Outlet_Years  \\\n",
       "0            OUT049          3735.1380      perishable            14   \n",
       "1            OUT018           443.4228  non_perishable             4   \n",
       "2            OUT049          2097.2700      perishable            14   \n",
       "3            OUT010           732.3800      perishable            15   \n",
       "4            OUT013           994.7052  non_perishable            26   \n",
       "\n",
       "   Price_Per_Unit_wt           ...             \\\n",
       "0          26.861204           ...              \n",
       "1           8.153581           ...              \n",
       "2           8.092457           ...              \n",
       "3           9.484115           ...              \n",
       "4           6.031512           ...              \n",
       "\n",
       "   Item_Type_Fruits and Vegetables  Item_Type_Hard Drinks  \\\n",
       "0                                0                      0   \n",
       "1                                0                      0   \n",
       "2                                0                      0   \n",
       "3                                1                      0   \n",
       "4                                0                      0   \n",
       "\n",
       "   Item_Type_Health and Hygiene  Item_Type_Household  Item_Type_Meat  \\\n",
       "0                             0                    0               0   \n",
       "1                             0                    0               0   \n",
       "2                             0                    0               1   \n",
       "3                             0                    0               0   \n",
       "4                             0                    1               0   \n",
       "\n",
       "   Item_Type_Others  Item_Type_Seafood  Item_Type_Snack Foods  \\\n",
       "0                 0                  0                      0   \n",
       "1                 0                  0                      0   \n",
       "2                 0                  0                      0   \n",
       "3                 0                  0                      0   \n",
       "4                 0                  0                      0   \n",
       "\n",
       "   Item_Type_Soft Drinks  Item_Type_Starchy Foods  \n",
       "0                      0                        0  \n",
       "1                      1                        0  \n",
       "2                      0                        0  \n",
       "3                      0                        0  \n",
       "4                      0                        0  \n",
       "\n",
       "[5 rows x 31 columns]"
      ]
     },
     "execution_count": 46,
     "metadata": {},
     "output_type": "execute_result"
    }
   ],
   "source": [
    "combi_new = combi.drop(dummy_cols, axis=1)\n",
    "combi = combi_new.join(combi_cat)\n",
    "combi.head()"
   ]
  },
  {
   "cell_type": "markdown",
   "metadata": {},
   "source": [
    "## Preprocessing "
   ]
  },
  {
   "cell_type": "code",
   "execution_count": 47,
   "metadata": {},
   "outputs": [],
   "source": [
    "# Removing Skewness by taking logs\n",
    "combi['Item_Visibility'] = np.log(combi['Item_Visibility'] + 1) # log + 1 to avoid division by zero\n",
    "combi['Price_Per_Unit_wt'] = np.log(combi['Price_Per_Unit_wt'] + 1)"
   ]
  },
  {
   "cell_type": "markdown",
   "metadata": {},
   "source": [
    "## Splitting Train set and Test set"
   ]
  },
  {
   "cell_type": "code",
   "execution_count": 48,
   "metadata": {},
   "outputs": [],
   "source": [
    "train_df = combi[0:len(train)]\n",
    "test_df = combi[len(train): len(combi)+1]\n",
    "# test_df['Item_Outlet_Sales'] = np.nan"
   ]
  },
  {
   "cell_type": "code",
   "execution_count": 49,
   "metadata": {},
   "outputs": [
    {
     "data": {
      "text/html": [
       "<div>\n",
       "<style scoped>\n",
       "    .dataframe tbody tr th:only-of-type {\n",
       "        vertical-align: middle;\n",
       "    }\n",
       "\n",
       "    .dataframe tbody tr th {\n",
       "        vertical-align: top;\n",
       "    }\n",
       "\n",
       "    .dataframe thead th {\n",
       "        text-align: right;\n",
       "    }\n",
       "</style>\n",
       "<table border=\"1\" class=\"dataframe\">\n",
       "  <thead>\n",
       "    <tr style=\"text-align: right;\">\n",
       "      <th></th>\n",
       "      <th>Item_Identifier</th>\n",
       "      <th>Item_Weight</th>\n",
       "      <th>Item_Fat_Content</th>\n",
       "      <th>Item_Visibility</th>\n",
       "      <th>Item_MRP</th>\n",
       "      <th>Outlet_Identifier</th>\n",
       "      <th>Item_Outlet_Sales</th>\n",
       "      <th>Item_Type_new</th>\n",
       "      <th>Outlet_Years</th>\n",
       "      <th>Price_Per_Unit_wt</th>\n",
       "      <th>...</th>\n",
       "      <th>Item_Type_Fruits and Vegetables</th>\n",
       "      <th>Item_Type_Hard Drinks</th>\n",
       "      <th>Item_Type_Health and Hygiene</th>\n",
       "      <th>Item_Type_Household</th>\n",
       "      <th>Item_Type_Meat</th>\n",
       "      <th>Item_Type_Others</th>\n",
       "      <th>Item_Type_Seafood</th>\n",
       "      <th>Item_Type_Snack Foods</th>\n",
       "      <th>Item_Type_Soft Drinks</th>\n",
       "      <th>Item_Type_Starchy Foods</th>\n",
       "    </tr>\n",
       "  </thead>\n",
       "  <tbody>\n",
       "    <tr>\n",
       "      <th>0</th>\n",
       "      <td>FDA15</td>\n",
       "      <td>9.30</td>\n",
       "      <td>Low Fat</td>\n",
       "      <td>0.015920</td>\n",
       "      <td>249.8092</td>\n",
       "      <td>OUT049</td>\n",
       "      <td>3735.1380</td>\n",
       "      <td>perishable</td>\n",
       "      <td>14</td>\n",
       "      <td>3.327235</td>\n",
       "      <td>...</td>\n",
       "      <td>0</td>\n",
       "      <td>0</td>\n",
       "      <td>0</td>\n",
       "      <td>0</td>\n",
       "      <td>0</td>\n",
       "      <td>0</td>\n",
       "      <td>0</td>\n",
       "      <td>0</td>\n",
       "      <td>0</td>\n",
       "      <td>0</td>\n",
       "    </tr>\n",
       "    <tr>\n",
       "      <th>1</th>\n",
       "      <td>DRC01</td>\n",
       "      <td>5.92</td>\n",
       "      <td>Regular</td>\n",
       "      <td>0.019095</td>\n",
       "      <td>48.2692</td>\n",
       "      <td>OUT018</td>\n",
       "      <td>443.4228</td>\n",
       "      <td>non_perishable</td>\n",
       "      <td>4</td>\n",
       "      <td>2.214145</td>\n",
       "      <td>...</td>\n",
       "      <td>0</td>\n",
       "      <td>0</td>\n",
       "      <td>0</td>\n",
       "      <td>0</td>\n",
       "      <td>0</td>\n",
       "      <td>0</td>\n",
       "      <td>0</td>\n",
       "      <td>0</td>\n",
       "      <td>1</td>\n",
       "      <td>0</td>\n",
       "    </tr>\n",
       "    <tr>\n",
       "      <th>2</th>\n",
       "      <td>FDN15</td>\n",
       "      <td>17.50</td>\n",
       "      <td>Low Fat</td>\n",
       "      <td>0.016621</td>\n",
       "      <td>141.6180</td>\n",
       "      <td>OUT049</td>\n",
       "      <td>2097.2700</td>\n",
       "      <td>perishable</td>\n",
       "      <td>14</td>\n",
       "      <td>2.207445</td>\n",
       "      <td>...</td>\n",
       "      <td>0</td>\n",
       "      <td>0</td>\n",
       "      <td>0</td>\n",
       "      <td>0</td>\n",
       "      <td>1</td>\n",
       "      <td>0</td>\n",
       "      <td>0</td>\n",
       "      <td>0</td>\n",
       "      <td>0</td>\n",
       "      <td>0</td>\n",
       "    </tr>\n",
       "    <tr>\n",
       "      <th>3</th>\n",
       "      <td>FDX07</td>\n",
       "      <td>19.20</td>\n",
       "      <td>Regular</td>\n",
       "      <td>0.063869</td>\n",
       "      <td>182.0950</td>\n",
       "      <td>OUT010</td>\n",
       "      <td>732.3800</td>\n",
       "      <td>perishable</td>\n",
       "      <td>15</td>\n",
       "      <td>2.349861</td>\n",
       "      <td>...</td>\n",
       "      <td>1</td>\n",
       "      <td>0</td>\n",
       "      <td>0</td>\n",
       "      <td>0</td>\n",
       "      <td>0</td>\n",
       "      <td>0</td>\n",
       "      <td>0</td>\n",
       "      <td>0</td>\n",
       "      <td>0</td>\n",
       "      <td>0</td>\n",
       "    </tr>\n",
       "    <tr>\n",
       "      <th>4</th>\n",
       "      <td>NCD19</td>\n",
       "      <td>8.93</td>\n",
       "      <td>Low Fat</td>\n",
       "      <td>0.063869</td>\n",
       "      <td>53.8614</td>\n",
       "      <td>OUT013</td>\n",
       "      <td>994.7052</td>\n",
       "      <td>non_perishable</td>\n",
       "      <td>26</td>\n",
       "      <td>1.950402</td>\n",
       "      <td>...</td>\n",
       "      <td>0</td>\n",
       "      <td>0</td>\n",
       "      <td>0</td>\n",
       "      <td>1</td>\n",
       "      <td>0</td>\n",
       "      <td>0</td>\n",
       "      <td>0</td>\n",
       "      <td>0</td>\n",
       "      <td>0</td>\n",
       "      <td>0</td>\n",
       "    </tr>\n",
       "  </tbody>\n",
       "</table>\n",
       "<p>5 rows × 31 columns</p>\n",
       "</div>"
      ],
      "text/plain": [
       "  Item_Identifier  Item_Weight Item_Fat_Content  Item_Visibility  Item_MRP  \\\n",
       "0           FDA15         9.30          Low Fat         0.015920  249.8092   \n",
       "1           DRC01         5.92          Regular         0.019095   48.2692   \n",
       "2           FDN15        17.50          Low Fat         0.016621  141.6180   \n",
       "3           FDX07        19.20          Regular         0.063869  182.0950   \n",
       "4           NCD19         8.93          Low Fat         0.063869   53.8614   \n",
       "\n",
       "  Outlet_Identifier  Item_Outlet_Sales   Item_Type_new  Outlet_Years  \\\n",
       "0            OUT049          3735.1380      perishable            14   \n",
       "1            OUT018           443.4228  non_perishable             4   \n",
       "2            OUT049          2097.2700      perishable            14   \n",
       "3            OUT010           732.3800      perishable            15   \n",
       "4            OUT013           994.7052  non_perishable            26   \n",
       "\n",
       "   Price_Per_Unit_wt           ...             \\\n",
       "0           3.327235           ...              \n",
       "1           2.214145           ...              \n",
       "2           2.207445           ...              \n",
       "3           2.349861           ...              \n",
       "4           1.950402           ...              \n",
       "\n",
       "   Item_Type_Fruits and Vegetables  Item_Type_Hard Drinks  \\\n",
       "0                                0                      0   \n",
       "1                                0                      0   \n",
       "2                                0                      0   \n",
       "3                                1                      0   \n",
       "4                                0                      0   \n",
       "\n",
       "   Item_Type_Health and Hygiene  Item_Type_Household  Item_Type_Meat  \\\n",
       "0                             0                    0               0   \n",
       "1                             0                    0               0   \n",
       "2                             0                    0               1   \n",
       "3                             0                    0               0   \n",
       "4                             0                    1               0   \n",
       "\n",
       "   Item_Type_Others  Item_Type_Seafood  Item_Type_Snack Foods  \\\n",
       "0                 0                  0                      0   \n",
       "1                 0                  0                      0   \n",
       "2                 0                  0                      0   \n",
       "3                 0                  0                      0   \n",
       "4                 0                  0                      0   \n",
       "\n",
       "   Item_Type_Soft Drinks  Item_Type_Starchy Foods  \n",
       "0                      0                        0  \n",
       "1                      1                        0  \n",
       "2                      0                        0  \n",
       "3                      0                        0  \n",
       "4                      0                        0  \n",
       "\n",
       "[5 rows x 31 columns]"
      ]
     },
     "execution_count": 49,
     "metadata": {},
     "output_type": "execute_result"
    }
   ],
   "source": [
    "train_df.head()"
   ]
  },
  {
   "cell_type": "code",
   "execution_count": 50,
   "metadata": {},
   "outputs": [
    {
     "data": {
      "text/html": [
       "<div>\n",
       "<style scoped>\n",
       "    .dataframe tbody tr th:only-of-type {\n",
       "        vertical-align: middle;\n",
       "    }\n",
       "\n",
       "    .dataframe tbody tr th {\n",
       "        vertical-align: top;\n",
       "    }\n",
       "\n",
       "    .dataframe thead th {\n",
       "        text-align: right;\n",
       "    }\n",
       "</style>\n",
       "<table border=\"1\" class=\"dataframe\">\n",
       "  <thead>\n",
       "    <tr style=\"text-align: right;\">\n",
       "      <th></th>\n",
       "      <th>Item_Identifier</th>\n",
       "      <th>Item_Weight</th>\n",
       "      <th>Item_Fat_Content</th>\n",
       "      <th>Item_Visibility</th>\n",
       "      <th>Item_MRP</th>\n",
       "      <th>Outlet_Identifier</th>\n",
       "      <th>Item_Outlet_Sales</th>\n",
       "      <th>Item_Type_new</th>\n",
       "      <th>Outlet_Years</th>\n",
       "      <th>Price_Per_Unit_wt</th>\n",
       "      <th>...</th>\n",
       "      <th>Item_Type_Fruits and Vegetables</th>\n",
       "      <th>Item_Type_Hard Drinks</th>\n",
       "      <th>Item_Type_Health and Hygiene</th>\n",
       "      <th>Item_Type_Household</th>\n",
       "      <th>Item_Type_Meat</th>\n",
       "      <th>Item_Type_Others</th>\n",
       "      <th>Item_Type_Seafood</th>\n",
       "      <th>Item_Type_Snack Foods</th>\n",
       "      <th>Item_Type_Soft Drinks</th>\n",
       "      <th>Item_Type_Starchy Foods</th>\n",
       "    </tr>\n",
       "  </thead>\n",
       "  <tbody>\n",
       "    <tr>\n",
       "      <th>8523</th>\n",
       "      <td>FDW58</td>\n",
       "      <td>20.750</td>\n",
       "      <td>Low Fat</td>\n",
       "      <td>0.007536</td>\n",
       "      <td>107.8622</td>\n",
       "      <td>OUT049</td>\n",
       "      <td>NaN</td>\n",
       "      <td>perishable</td>\n",
       "      <td>14</td>\n",
       "      <td>1.824255</td>\n",
       "      <td>...</td>\n",
       "      <td>0</td>\n",
       "      <td>0</td>\n",
       "      <td>0</td>\n",
       "      <td>0</td>\n",
       "      <td>0</td>\n",
       "      <td>0</td>\n",
       "      <td>0</td>\n",
       "      <td>1</td>\n",
       "      <td>0</td>\n",
       "      <td>0</td>\n",
       "    </tr>\n",
       "    <tr>\n",
       "      <th>8524</th>\n",
       "      <td>FDW14</td>\n",
       "      <td>8.300</td>\n",
       "      <td>Regular</td>\n",
       "      <td>0.037708</td>\n",
       "      <td>87.3198</td>\n",
       "      <td>OUT017</td>\n",
       "      <td>NaN</td>\n",
       "      <td>perishable</td>\n",
       "      <td>6</td>\n",
       "      <td>2.444124</td>\n",
       "      <td>...</td>\n",
       "      <td>0</td>\n",
       "      <td>0</td>\n",
       "      <td>0</td>\n",
       "      <td>0</td>\n",
       "      <td>0</td>\n",
       "      <td>0</td>\n",
       "      <td>0</td>\n",
       "      <td>0</td>\n",
       "      <td>0</td>\n",
       "      <td>0</td>\n",
       "    </tr>\n",
       "    <tr>\n",
       "      <th>8525</th>\n",
       "      <td>NCN55</td>\n",
       "      <td>14.600</td>\n",
       "      <td>Low Fat</td>\n",
       "      <td>0.094924</td>\n",
       "      <td>241.7538</td>\n",
       "      <td>OUT010</td>\n",
       "      <td>NaN</td>\n",
       "      <td>not_sure</td>\n",
       "      <td>15</td>\n",
       "      <td>2.865537</td>\n",
       "      <td>...</td>\n",
       "      <td>0</td>\n",
       "      <td>0</td>\n",
       "      <td>0</td>\n",
       "      <td>0</td>\n",
       "      <td>0</td>\n",
       "      <td>1</td>\n",
       "      <td>0</td>\n",
       "      <td>0</td>\n",
       "      <td>0</td>\n",
       "      <td>0</td>\n",
       "    </tr>\n",
       "    <tr>\n",
       "      <th>8526</th>\n",
       "      <td>FDQ58</td>\n",
       "      <td>7.315</td>\n",
       "      <td>Low Fat</td>\n",
       "      <td>0.015271</td>\n",
       "      <td>155.0340</td>\n",
       "      <td>OUT017</td>\n",
       "      <td>NaN</td>\n",
       "      <td>perishable</td>\n",
       "      <td>6</td>\n",
       "      <td>3.099821</td>\n",
       "      <td>...</td>\n",
       "      <td>0</td>\n",
       "      <td>0</td>\n",
       "      <td>0</td>\n",
       "      <td>0</td>\n",
       "      <td>0</td>\n",
       "      <td>0</td>\n",
       "      <td>0</td>\n",
       "      <td>1</td>\n",
       "      <td>0</td>\n",
       "      <td>0</td>\n",
       "    </tr>\n",
       "    <tr>\n",
       "      <th>8527</th>\n",
       "      <td>FDY38</td>\n",
       "      <td>12.600</td>\n",
       "      <td>Regular</td>\n",
       "      <td>0.112077</td>\n",
       "      <td>234.2300</td>\n",
       "      <td>OUT027</td>\n",
       "      <td>NaN</td>\n",
       "      <td>perishable</td>\n",
       "      <td>28</td>\n",
       "      <td>2.975003</td>\n",
       "      <td>...</td>\n",
       "      <td>0</td>\n",
       "      <td>0</td>\n",
       "      <td>0</td>\n",
       "      <td>0</td>\n",
       "      <td>0</td>\n",
       "      <td>0</td>\n",
       "      <td>0</td>\n",
       "      <td>0</td>\n",
       "      <td>0</td>\n",
       "      <td>0</td>\n",
       "    </tr>\n",
       "  </tbody>\n",
       "</table>\n",
       "<p>5 rows × 31 columns</p>\n",
       "</div>"
      ],
      "text/plain": [
       "     Item_Identifier  Item_Weight Item_Fat_Content  Item_Visibility  Item_MRP  \\\n",
       "8523           FDW58       20.750          Low Fat         0.007536  107.8622   \n",
       "8524           FDW14        8.300          Regular         0.037708   87.3198   \n",
       "8525           NCN55       14.600          Low Fat         0.094924  241.7538   \n",
       "8526           FDQ58        7.315          Low Fat         0.015271  155.0340   \n",
       "8527           FDY38       12.600          Regular         0.112077  234.2300   \n",
       "\n",
       "     Outlet_Identifier  Item_Outlet_Sales Item_Type_new  Outlet_Years  \\\n",
       "8523            OUT049                NaN    perishable            14   \n",
       "8524            OUT017                NaN    perishable             6   \n",
       "8525            OUT010                NaN      not_sure            15   \n",
       "8526            OUT017                NaN    perishable             6   \n",
       "8527            OUT027                NaN    perishable            28   \n",
       "\n",
       "      Price_Per_Unit_wt           ...             \\\n",
       "8523           1.824255           ...              \n",
       "8524           2.444124           ...              \n",
       "8525           2.865537           ...              \n",
       "8526           3.099821           ...              \n",
       "8527           2.975003           ...              \n",
       "\n",
       "      Item_Type_Fruits and Vegetables  Item_Type_Hard Drinks  \\\n",
       "8523                                0                      0   \n",
       "8524                                0                      0   \n",
       "8525                                0                      0   \n",
       "8526                                0                      0   \n",
       "8527                                0                      0   \n",
       "\n",
       "      Item_Type_Health and Hygiene  Item_Type_Household  Item_Type_Meat  \\\n",
       "8523                             0                    0               0   \n",
       "8524                             0                    0               0   \n",
       "8525                             0                    0               0   \n",
       "8526                             0                    0               0   \n",
       "8527                             0                    0               0   \n",
       "\n",
       "      Item_Type_Others  Item_Type_Seafood  Item_Type_Snack Foods  \\\n",
       "8523                 0                  0                      1   \n",
       "8524                 0                  0                      0   \n",
       "8525                 1                  0                      0   \n",
       "8526                 0                  0                      1   \n",
       "8527                 0                  0                      0   \n",
       "\n",
       "      Item_Type_Soft Drinks  Item_Type_Starchy Foods  \n",
       "8523                      0                        0  \n",
       "8524                      0                        0  \n",
       "8525                      0                        0  \n",
       "8526                      0                        0  \n",
       "8527                      0                        0  \n",
       "\n",
       "[5 rows x 31 columns]"
      ]
     },
     "execution_count": 50,
     "metadata": {},
     "output_type": "execute_result"
    }
   ],
   "source": [
    "test_df.head()"
   ]
  },
  {
   "cell_type": "code",
   "execution_count": 51,
   "metadata": {},
   "outputs": [],
   "source": [
    "train_dum = pd.get_dummies(train_df[['Item_Fat_Content', 'Item_Type_new']])"
   ]
  },
  {
   "cell_type": "code",
   "execution_count": 52,
   "metadata": {},
   "outputs": [],
   "source": [
    "test_dum = pd.get_dummies(test_df[['Item_Fat_Content', 'Item_Type_new']])"
   ]
  },
  {
   "cell_type": "code",
   "execution_count": 53,
   "metadata": {},
   "outputs": [],
   "source": [
    "train_df_new = train_df.drop(['Item_Fat_Content', 'Item_Type_new', 'Outlet_Identifier', 'Item_Identifier'], axis=1)\n",
    "train_df = train_df_new.join(train_dum)"
   ]
  },
  {
   "cell_type": "code",
   "execution_count": 54,
   "metadata": {},
   "outputs": [],
   "source": [
    "test_df_new = test_df.drop(['Item_Fat_Content', 'Item_Type_new', 'Outlet_Identifier', 'Item_Identifier'], axis=1)\n",
    "test_df = test_df_new.join(test_dum)"
   ]
  },
  {
   "cell_type": "code",
   "execution_count": 55,
   "metadata": {},
   "outputs": [
    {
     "data": {
      "text/html": [
       "<div>\n",
       "<style scoped>\n",
       "    .dataframe tbody tr th:only-of-type {\n",
       "        vertical-align: middle;\n",
       "    }\n",
       "\n",
       "    .dataframe tbody tr th {\n",
       "        vertical-align: top;\n",
       "    }\n",
       "\n",
       "    .dataframe thead th {\n",
       "        text-align: right;\n",
       "    }\n",
       "</style>\n",
       "<table border=\"1\" class=\"dataframe\">\n",
       "  <thead>\n",
       "    <tr style=\"text-align: right;\">\n",
       "      <th></th>\n",
       "      <th>Item_Weight</th>\n",
       "      <th>Item_Visibility</th>\n",
       "      <th>Item_MRP</th>\n",
       "      <th>Item_Outlet_Sales</th>\n",
       "      <th>Outlet_Years</th>\n",
       "      <th>Price_Per_Unit_wt</th>\n",
       "      <th>Item_MRP_Clusters</th>\n",
       "      <th>Outlet_Size_num</th>\n",
       "      <th>Outlet_Location_Size_num</th>\n",
       "      <th>Outlet_Type_num</th>\n",
       "      <th>...</th>\n",
       "      <th>Item_Type_Others</th>\n",
       "      <th>Item_Type_Seafood</th>\n",
       "      <th>Item_Type_Snack Foods</th>\n",
       "      <th>Item_Type_Soft Drinks</th>\n",
       "      <th>Item_Type_Starchy Foods</th>\n",
       "      <th>Item_Fat_Content_Low Fat</th>\n",
       "      <th>Item_Fat_Content_Regular</th>\n",
       "      <th>Item_Type_new_non_perishable</th>\n",
       "      <th>Item_Type_new_not_sure</th>\n",
       "      <th>Item_Type_new_perishable</th>\n",
       "    </tr>\n",
       "  </thead>\n",
       "  <tbody>\n",
       "    <tr>\n",
       "      <th>count</th>\n",
       "      <td>8523.00000</td>\n",
       "      <td>8523.000000</td>\n",
       "      <td>8523.000000</td>\n",
       "      <td>8523.000000</td>\n",
       "      <td>8523.000000</td>\n",
       "      <td>8523.000000</td>\n",
       "      <td>8523.000000</td>\n",
       "      <td>8523.000000</td>\n",
       "      <td>8523.000000</td>\n",
       "      <td>8523.000000</td>\n",
       "      <td>...</td>\n",
       "      <td>8523.000000</td>\n",
       "      <td>8523.000000</td>\n",
       "      <td>8523.000000</td>\n",
       "      <td>8523.000000</td>\n",
       "      <td>8523.000000</td>\n",
       "      <td>8523.000000</td>\n",
       "      <td>8523.000000</td>\n",
       "      <td>8523.000000</td>\n",
       "      <td>8523.000000</td>\n",
       "      <td>8523.000000</td>\n",
       "    </tr>\n",
       "    <tr>\n",
       "      <th>mean</th>\n",
       "      <td>12.81342</td>\n",
       "      <td>0.066846</td>\n",
       "      <td>140.992782</td>\n",
       "      <td>2181.288914</td>\n",
       "      <td>15.168133</td>\n",
       "      <td>2.447690</td>\n",
       "      <td>2.530212</td>\n",
       "      <td>1.111932</td>\n",
       "      <td>0.887129</td>\n",
       "      <td>1.709492</td>\n",
       "      <td>...</td>\n",
       "      <td>0.019829</td>\n",
       "      <td>0.007509</td>\n",
       "      <td>0.140795</td>\n",
       "      <td>0.052212</td>\n",
       "      <td>0.017365</td>\n",
       "      <td>0.647307</td>\n",
       "      <td>0.352693</td>\n",
       "      <td>0.436701</td>\n",
       "      <td>0.098205</td>\n",
       "      <td>0.465094</td>\n",
       "    </tr>\n",
       "    <tr>\n",
       "      <th>std</th>\n",
       "      <td>4.22724</td>\n",
       "      <td>0.044383</td>\n",
       "      <td>62.275067</td>\n",
       "      <td>1706.499616</td>\n",
       "      <td>8.371760</td>\n",
       "      <td>0.562709</td>\n",
       "      <td>0.948261</td>\n",
       "      <td>0.812310</td>\n",
       "      <td>0.812757</td>\n",
       "      <td>1.089985</td>\n",
       "      <td>...</td>\n",
       "      <td>0.139420</td>\n",
       "      <td>0.086334</td>\n",
       "      <td>0.347831</td>\n",
       "      <td>0.222467</td>\n",
       "      <td>0.130634</td>\n",
       "      <td>0.477836</td>\n",
       "      <td>0.477836</td>\n",
       "      <td>0.496006</td>\n",
       "      <td>0.297609</td>\n",
       "      <td>0.498809</td>\n",
       "    </tr>\n",
       "    <tr>\n",
       "      <th>min</th>\n",
       "      <td>4.55500</td>\n",
       "      <td>0.003568</td>\n",
       "      <td>31.290000</td>\n",
       "      <td>33.290000</td>\n",
       "      <td>4.000000</td>\n",
       "      <td>0.988059</td>\n",
       "      <td>1.000000</td>\n",
       "      <td>0.000000</td>\n",
       "      <td>0.000000</td>\n",
       "      <td>1.000000</td>\n",
       "      <td>...</td>\n",
       "      <td>0.000000</td>\n",
       "      <td>0.000000</td>\n",
       "      <td>0.000000</td>\n",
       "      <td>0.000000</td>\n",
       "      <td>0.000000</td>\n",
       "      <td>0.000000</td>\n",
       "      <td>0.000000</td>\n",
       "      <td>0.000000</td>\n",
       "      <td>0.000000</td>\n",
       "      <td>0.000000</td>\n",
       "    </tr>\n",
       "    <tr>\n",
       "      <th>25%</th>\n",
       "      <td>9.31000</td>\n",
       "      <td>0.032550</td>\n",
       "      <td>93.826500</td>\n",
       "      <td>834.247400</td>\n",
       "      <td>9.000000</td>\n",
       "      <td>2.066804</td>\n",
       "      <td>2.000000</td>\n",
       "      <td>0.000000</td>\n",
       "      <td>0.000000</td>\n",
       "      <td>1.000000</td>\n",
       "      <td>...</td>\n",
       "      <td>0.000000</td>\n",
       "      <td>0.000000</td>\n",
       "      <td>0.000000</td>\n",
       "      <td>0.000000</td>\n",
       "      <td>0.000000</td>\n",
       "      <td>0.000000</td>\n",
       "      <td>0.000000</td>\n",
       "      <td>0.000000</td>\n",
       "      <td>0.000000</td>\n",
       "      <td>0.000000</td>\n",
       "    </tr>\n",
       "    <tr>\n",
       "      <th>50%</th>\n",
       "      <td>12.60000</td>\n",
       "      <td>0.060640</td>\n",
       "      <td>143.012800</td>\n",
       "      <td>1794.331000</td>\n",
       "      <td>14.000000</td>\n",
       "      <td>2.489618</td>\n",
       "      <td>3.000000</td>\n",
       "      <td>1.000000</td>\n",
       "      <td>1.000000</td>\n",
       "      <td>1.000000</td>\n",
       "      <td>...</td>\n",
       "      <td>0.000000</td>\n",
       "      <td>0.000000</td>\n",
       "      <td>0.000000</td>\n",
       "      <td>0.000000</td>\n",
       "      <td>0.000000</td>\n",
       "      <td>1.000000</td>\n",
       "      <td>0.000000</td>\n",
       "      <td>0.000000</td>\n",
       "      <td>0.000000</td>\n",
       "      <td>0.000000</td>\n",
       "    </tr>\n",
       "    <tr>\n",
       "      <th>75%</th>\n",
       "      <td>16.00000</td>\n",
       "      <td>0.090376</td>\n",
       "      <td>185.643700</td>\n",
       "      <td>3101.296400</td>\n",
       "      <td>26.000000</td>\n",
       "      <td>2.822678</td>\n",
       "      <td>3.000000</td>\n",
       "      <td>2.000000</td>\n",
       "      <td>2.000000</td>\n",
       "      <td>2.000000</td>\n",
       "      <td>...</td>\n",
       "      <td>0.000000</td>\n",
       "      <td>0.000000</td>\n",
       "      <td>0.000000</td>\n",
       "      <td>0.000000</td>\n",
       "      <td>0.000000</td>\n",
       "      <td>1.000000</td>\n",
       "      <td>1.000000</td>\n",
       "      <td>1.000000</td>\n",
       "      <td>0.000000</td>\n",
       "      <td>1.000000</td>\n",
       "    </tr>\n",
       "    <tr>\n",
       "      <th>max</th>\n",
       "      <td>21.35000</td>\n",
       "      <td>0.283968</td>\n",
       "      <td>266.888400</td>\n",
       "      <td>13086.964800</td>\n",
       "      <td>28.000000</td>\n",
       "      <td>3.946922</td>\n",
       "      <td>4.000000</td>\n",
       "      <td>2.000000</td>\n",
       "      <td>2.000000</td>\n",
       "      <td>4.000000</td>\n",
       "      <td>...</td>\n",
       "      <td>1.000000</td>\n",
       "      <td>1.000000</td>\n",
       "      <td>1.000000</td>\n",
       "      <td>1.000000</td>\n",
       "      <td>1.000000</td>\n",
       "      <td>1.000000</td>\n",
       "      <td>1.000000</td>\n",
       "      <td>1.000000</td>\n",
       "      <td>1.000000</td>\n",
       "      <td>1.000000</td>\n",
       "    </tr>\n",
       "  </tbody>\n",
       "</table>\n",
       "<p>8 rows × 32 columns</p>\n",
       "</div>"
      ],
      "text/plain": [
       "       Item_Weight  Item_Visibility     Item_MRP  Item_Outlet_Sales  \\\n",
       "count   8523.00000      8523.000000  8523.000000        8523.000000   \n",
       "mean      12.81342         0.066846   140.992782        2181.288914   \n",
       "std        4.22724         0.044383    62.275067        1706.499616   \n",
       "min        4.55500         0.003568    31.290000          33.290000   \n",
       "25%        9.31000         0.032550    93.826500         834.247400   \n",
       "50%       12.60000         0.060640   143.012800        1794.331000   \n",
       "75%       16.00000         0.090376   185.643700        3101.296400   \n",
       "max       21.35000         0.283968   266.888400       13086.964800   \n",
       "\n",
       "       Outlet_Years  Price_Per_Unit_wt  Item_MRP_Clusters  Outlet_Size_num  \\\n",
       "count   8523.000000        8523.000000        8523.000000      8523.000000   \n",
       "mean      15.168133           2.447690           2.530212         1.111932   \n",
       "std        8.371760           0.562709           0.948261         0.812310   \n",
       "min        4.000000           0.988059           1.000000         0.000000   \n",
       "25%        9.000000           2.066804           2.000000         0.000000   \n",
       "50%       14.000000           2.489618           3.000000         1.000000   \n",
       "75%       26.000000           2.822678           3.000000         2.000000   \n",
       "max       28.000000           3.946922           4.000000         2.000000   \n",
       "\n",
       "       Outlet_Location_Size_num  Outlet_Type_num            ...             \\\n",
       "count               8523.000000      8523.000000            ...              \n",
       "mean                   0.887129         1.709492            ...              \n",
       "std                    0.812757         1.089985            ...              \n",
       "min                    0.000000         1.000000            ...              \n",
       "25%                    0.000000         1.000000            ...              \n",
       "50%                    1.000000         1.000000            ...              \n",
       "75%                    2.000000         2.000000            ...              \n",
       "max                    2.000000         4.000000            ...              \n",
       "\n",
       "       Item_Type_Others  Item_Type_Seafood  Item_Type_Snack Foods  \\\n",
       "count       8523.000000        8523.000000            8523.000000   \n",
       "mean           0.019829           0.007509               0.140795   \n",
       "std            0.139420           0.086334               0.347831   \n",
       "min            0.000000           0.000000               0.000000   \n",
       "25%            0.000000           0.000000               0.000000   \n",
       "50%            0.000000           0.000000               0.000000   \n",
       "75%            0.000000           0.000000               0.000000   \n",
       "max            1.000000           1.000000               1.000000   \n",
       "\n",
       "       Item_Type_Soft Drinks  Item_Type_Starchy Foods  \\\n",
       "count            8523.000000              8523.000000   \n",
       "mean                0.052212                 0.017365   \n",
       "std                 0.222467                 0.130634   \n",
       "min                 0.000000                 0.000000   \n",
       "25%                 0.000000                 0.000000   \n",
       "50%                 0.000000                 0.000000   \n",
       "75%                 0.000000                 0.000000   \n",
       "max                 1.000000                 1.000000   \n",
       "\n",
       "       Item_Fat_Content_Low Fat  Item_Fat_Content_Regular  \\\n",
       "count               8523.000000               8523.000000   \n",
       "mean                   0.647307                  0.352693   \n",
       "std                    0.477836                  0.477836   \n",
       "min                    0.000000                  0.000000   \n",
       "25%                    0.000000                  0.000000   \n",
       "50%                    1.000000                  0.000000   \n",
       "75%                    1.000000                  1.000000   \n",
       "max                    1.000000                  1.000000   \n",
       "\n",
       "       Item_Type_new_non_perishable  Item_Type_new_not_sure  \\\n",
       "count                   8523.000000             8523.000000   \n",
       "mean                       0.436701                0.098205   \n",
       "std                        0.496006                0.297609   \n",
       "min                        0.000000                0.000000   \n",
       "25%                        0.000000                0.000000   \n",
       "50%                        0.000000                0.000000   \n",
       "75%                        1.000000                0.000000   \n",
       "max                        1.000000                1.000000   \n",
       "\n",
       "       Item_Type_new_perishable  \n",
       "count               8523.000000  \n",
       "mean                   0.465094  \n",
       "std                    0.498809  \n",
       "min                    0.000000  \n",
       "25%                    0.000000  \n",
       "50%                    0.000000  \n",
       "75%                    1.000000  \n",
       "max                    1.000000  \n",
       "\n",
       "[8 rows x 32 columns]"
      ]
     },
     "execution_count": 55,
     "metadata": {},
     "output_type": "execute_result"
    }
   ],
   "source": [
    "train_df.describe()"
   ]
  },
  {
   "cell_type": "code",
   "execution_count": 56,
   "metadata": {},
   "outputs": [
    {
     "data": {
      "text/html": [
       "<div>\n",
       "<style scoped>\n",
       "    .dataframe tbody tr th:only-of-type {\n",
       "        vertical-align: middle;\n",
       "    }\n",
       "\n",
       "    .dataframe tbody tr th {\n",
       "        vertical-align: top;\n",
       "    }\n",
       "\n",
       "    .dataframe thead th {\n",
       "        text-align: right;\n",
       "    }\n",
       "</style>\n",
       "<table border=\"1\" class=\"dataframe\">\n",
       "  <thead>\n",
       "    <tr style=\"text-align: right;\">\n",
       "      <th></th>\n",
       "      <th>Item_Weight</th>\n",
       "      <th>Item_Visibility</th>\n",
       "      <th>Item_MRP</th>\n",
       "      <th>Item_Outlet_Sales</th>\n",
       "      <th>Outlet_Years</th>\n",
       "      <th>Price_Per_Unit_wt</th>\n",
       "      <th>Item_MRP_Clusters</th>\n",
       "      <th>Outlet_Size_num</th>\n",
       "      <th>Outlet_Location_Size_num</th>\n",
       "      <th>Outlet_Type_num</th>\n",
       "      <th>...</th>\n",
       "      <th>Item_Type_Others</th>\n",
       "      <th>Item_Type_Seafood</th>\n",
       "      <th>Item_Type_Snack Foods</th>\n",
       "      <th>Item_Type_Soft Drinks</th>\n",
       "      <th>Item_Type_Starchy Foods</th>\n",
       "      <th>Item_Fat_Content_Low Fat</th>\n",
       "      <th>Item_Fat_Content_Regular</th>\n",
       "      <th>Item_Type_new_non_perishable</th>\n",
       "      <th>Item_Type_new_not_sure</th>\n",
       "      <th>Item_Type_new_perishable</th>\n",
       "    </tr>\n",
       "  </thead>\n",
       "  <tbody>\n",
       "    <tr>\n",
       "      <th>count</th>\n",
       "      <td>5681.000000</td>\n",
       "      <td>5681.000000</td>\n",
       "      <td>5681.000000</td>\n",
       "      <td>0.0</td>\n",
       "      <td>5681.000000</td>\n",
       "      <td>5681.000000</td>\n",
       "      <td>5681.000000</td>\n",
       "      <td>5681.000000</td>\n",
       "      <td>5681.000000</td>\n",
       "      <td>5681.000000</td>\n",
       "      <td>...</td>\n",
       "      <td>5681.000000</td>\n",
       "      <td>5681.000000</td>\n",
       "      <td>5681.000000</td>\n",
       "      <td>5681.000000</td>\n",
       "      <td>5681.000000</td>\n",
       "      <td>5681.000000</td>\n",
       "      <td>5681.000000</td>\n",
       "      <td>5681.000000</td>\n",
       "      <td>5681.000000</td>\n",
       "      <td>5681.000000</td>\n",
       "    </tr>\n",
       "    <tr>\n",
       "      <th>mean</th>\n",
       "      <td>12.679203</td>\n",
       "      <td>0.066469</td>\n",
       "      <td>141.023273</td>\n",
       "      <td>NaN</td>\n",
       "      <td>15.171097</td>\n",
       "      <td>2.460476</td>\n",
       "      <td>2.529484</td>\n",
       "      <td>1.111776</td>\n",
       "      <td>0.887168</td>\n",
       "      <td>1.709734</td>\n",
       "      <td>...</td>\n",
       "      <td>0.019539</td>\n",
       "      <td>0.004401</td>\n",
       "      <td>0.138884</td>\n",
       "      <td>0.049463</td>\n",
       "      <td>0.021299</td>\n",
       "      <td>0.645661</td>\n",
       "      <td>0.354339</td>\n",
       "      <td>0.441824</td>\n",
       "      <td>0.100334</td>\n",
       "      <td>0.457842</td>\n",
       "    </tr>\n",
       "    <tr>\n",
       "      <th>std</th>\n",
       "      <td>4.245342</td>\n",
       "      <td>0.044016</td>\n",
       "      <td>61.809091</td>\n",
       "      <td>NaN</td>\n",
       "      <td>8.372256</td>\n",
       "      <td>0.556906</td>\n",
       "      <td>0.946762</td>\n",
       "      <td>0.812320</td>\n",
       "      <td>0.812824</td>\n",
       "      <td>1.090157</td>\n",
       "      <td>...</td>\n",
       "      <td>0.138421</td>\n",
       "      <td>0.066197</td>\n",
       "      <td>0.345856</td>\n",
       "      <td>0.216852</td>\n",
       "      <td>0.144392</td>\n",
       "      <td>0.478355</td>\n",
       "      <td>0.478355</td>\n",
       "      <td>0.496648</td>\n",
       "      <td>0.300472</td>\n",
       "      <td>0.498263</td>\n",
       "    </tr>\n",
       "    <tr>\n",
       "      <th>min</th>\n",
       "      <td>4.555000</td>\n",
       "      <td>0.003585</td>\n",
       "      <td>31.990000</td>\n",
       "      <td>NaN</td>\n",
       "      <td>4.000000</td>\n",
       "      <td>0.980293</td>\n",
       "      <td>1.000000</td>\n",
       "      <td>0.000000</td>\n",
       "      <td>0.000000</td>\n",
       "      <td>1.000000</td>\n",
       "      <td>...</td>\n",
       "      <td>0.000000</td>\n",
       "      <td>0.000000</td>\n",
       "      <td>0.000000</td>\n",
       "      <td>0.000000</td>\n",
       "      <td>0.000000</td>\n",
       "      <td>0.000000</td>\n",
       "      <td>0.000000</td>\n",
       "      <td>0.000000</td>\n",
       "      <td>0.000000</td>\n",
       "      <td>0.000000</td>\n",
       "    </tr>\n",
       "    <tr>\n",
       "      <th>25%</th>\n",
       "      <td>9.195000</td>\n",
       "      <td>0.032668</td>\n",
       "      <td>94.412000</td>\n",
       "      <td>NaN</td>\n",
       "      <td>9.000000</td>\n",
       "      <td>2.087827</td>\n",
       "      <td>2.000000</td>\n",
       "      <td>0.000000</td>\n",
       "      <td>0.000000</td>\n",
       "      <td>1.000000</td>\n",
       "      <td>...</td>\n",
       "      <td>0.000000</td>\n",
       "      <td>0.000000</td>\n",
       "      <td>0.000000</td>\n",
       "      <td>0.000000</td>\n",
       "      <td>0.000000</td>\n",
       "      <td>0.000000</td>\n",
       "      <td>0.000000</td>\n",
       "      <td>0.000000</td>\n",
       "      <td>0.000000</td>\n",
       "      <td>0.000000</td>\n",
       "    </tr>\n",
       "    <tr>\n",
       "      <th>50%</th>\n",
       "      <td>12.600000</td>\n",
       "      <td>0.060283</td>\n",
       "      <td>141.415400</td>\n",
       "      <td>NaN</td>\n",
       "      <td>14.000000</td>\n",
       "      <td>2.484424</td>\n",
       "      <td>3.000000</td>\n",
       "      <td>1.000000</td>\n",
       "      <td>1.000000</td>\n",
       "      <td>1.000000</td>\n",
       "      <td>...</td>\n",
       "      <td>0.000000</td>\n",
       "      <td>0.000000</td>\n",
       "      <td>0.000000</td>\n",
       "      <td>0.000000</td>\n",
       "      <td>0.000000</td>\n",
       "      <td>1.000000</td>\n",
       "      <td>0.000000</td>\n",
       "      <td>0.000000</td>\n",
       "      <td>0.000000</td>\n",
       "      <td>0.000000</td>\n",
       "    </tr>\n",
       "    <tr>\n",
       "      <th>75%</th>\n",
       "      <td>15.850000</td>\n",
       "      <td>0.089349</td>\n",
       "      <td>186.026600</td>\n",
       "      <td>NaN</td>\n",
       "      <td>26.000000</td>\n",
       "      <td>2.831235</td>\n",
       "      <td>3.000000</td>\n",
       "      <td>2.000000</td>\n",
       "      <td>2.000000</td>\n",
       "      <td>2.000000</td>\n",
       "      <td>...</td>\n",
       "      <td>0.000000</td>\n",
       "      <td>0.000000</td>\n",
       "      <td>0.000000</td>\n",
       "      <td>0.000000</td>\n",
       "      <td>0.000000</td>\n",
       "      <td>1.000000</td>\n",
       "      <td>1.000000</td>\n",
       "      <td>1.000000</td>\n",
       "      <td>0.000000</td>\n",
       "      <td>1.000000</td>\n",
       "    </tr>\n",
       "    <tr>\n",
       "      <th>max</th>\n",
       "      <td>21.350000</td>\n",
       "      <td>0.280383</td>\n",
       "      <td>266.588400</td>\n",
       "      <td>NaN</td>\n",
       "      <td>28.000000</td>\n",
       "      <td>3.945665</td>\n",
       "      <td>4.000000</td>\n",
       "      <td>2.000000</td>\n",
       "      <td>2.000000</td>\n",
       "      <td>4.000000</td>\n",
       "      <td>...</td>\n",
       "      <td>1.000000</td>\n",
       "      <td>1.000000</td>\n",
       "      <td>1.000000</td>\n",
       "      <td>1.000000</td>\n",
       "      <td>1.000000</td>\n",
       "      <td>1.000000</td>\n",
       "      <td>1.000000</td>\n",
       "      <td>1.000000</td>\n",
       "      <td>1.000000</td>\n",
       "      <td>1.000000</td>\n",
       "    </tr>\n",
       "  </tbody>\n",
       "</table>\n",
       "<p>8 rows × 32 columns</p>\n",
       "</div>"
      ],
      "text/plain": [
       "       Item_Weight  Item_Visibility     Item_MRP  Item_Outlet_Sales  \\\n",
       "count  5681.000000      5681.000000  5681.000000                0.0   \n",
       "mean     12.679203         0.066469   141.023273                NaN   \n",
       "std       4.245342         0.044016    61.809091                NaN   \n",
       "min       4.555000         0.003585    31.990000                NaN   \n",
       "25%       9.195000         0.032668    94.412000                NaN   \n",
       "50%      12.600000         0.060283   141.415400                NaN   \n",
       "75%      15.850000         0.089349   186.026600                NaN   \n",
       "max      21.350000         0.280383   266.588400                NaN   \n",
       "\n",
       "       Outlet_Years  Price_Per_Unit_wt  Item_MRP_Clusters  Outlet_Size_num  \\\n",
       "count   5681.000000        5681.000000        5681.000000      5681.000000   \n",
       "mean      15.171097           2.460476           2.529484         1.111776   \n",
       "std        8.372256           0.556906           0.946762         0.812320   \n",
       "min        4.000000           0.980293           1.000000         0.000000   \n",
       "25%        9.000000           2.087827           2.000000         0.000000   \n",
       "50%       14.000000           2.484424           3.000000         1.000000   \n",
       "75%       26.000000           2.831235           3.000000         2.000000   \n",
       "max       28.000000           3.945665           4.000000         2.000000   \n",
       "\n",
       "       Outlet_Location_Size_num  Outlet_Type_num            ...             \\\n",
       "count               5681.000000      5681.000000            ...              \n",
       "mean                   0.887168         1.709734            ...              \n",
       "std                    0.812824         1.090157            ...              \n",
       "min                    0.000000         1.000000            ...              \n",
       "25%                    0.000000         1.000000            ...              \n",
       "50%                    1.000000         1.000000            ...              \n",
       "75%                    2.000000         2.000000            ...              \n",
       "max                    2.000000         4.000000            ...              \n",
       "\n",
       "       Item_Type_Others  Item_Type_Seafood  Item_Type_Snack Foods  \\\n",
       "count       5681.000000        5681.000000            5681.000000   \n",
       "mean           0.019539           0.004401               0.138884   \n",
       "std            0.138421           0.066197               0.345856   \n",
       "min            0.000000           0.000000               0.000000   \n",
       "25%            0.000000           0.000000               0.000000   \n",
       "50%            0.000000           0.000000               0.000000   \n",
       "75%            0.000000           0.000000               0.000000   \n",
       "max            1.000000           1.000000               1.000000   \n",
       "\n",
       "       Item_Type_Soft Drinks  Item_Type_Starchy Foods  \\\n",
       "count            5681.000000              5681.000000   \n",
       "mean                0.049463                 0.021299   \n",
       "std                 0.216852                 0.144392   \n",
       "min                 0.000000                 0.000000   \n",
       "25%                 0.000000                 0.000000   \n",
       "50%                 0.000000                 0.000000   \n",
       "75%                 0.000000                 0.000000   \n",
       "max                 1.000000                 1.000000   \n",
       "\n",
       "       Item_Fat_Content_Low Fat  Item_Fat_Content_Regular  \\\n",
       "count               5681.000000               5681.000000   \n",
       "mean                   0.645661                  0.354339   \n",
       "std                    0.478355                  0.478355   \n",
       "min                    0.000000                  0.000000   \n",
       "25%                    0.000000                  0.000000   \n",
       "50%                    1.000000                  0.000000   \n",
       "75%                    1.000000                  1.000000   \n",
       "max                    1.000000                  1.000000   \n",
       "\n",
       "       Item_Type_new_non_perishable  Item_Type_new_not_sure  \\\n",
       "count                   5681.000000             5681.000000   \n",
       "mean                       0.441824                0.100334   \n",
       "std                        0.496648                0.300472   \n",
       "min                        0.000000                0.000000   \n",
       "25%                        0.000000                0.000000   \n",
       "50%                        0.000000                0.000000   \n",
       "75%                        1.000000                0.000000   \n",
       "max                        1.000000                1.000000   \n",
       "\n",
       "       Item_Type_new_perishable  \n",
       "count               5681.000000  \n",
       "mean                   0.457842  \n",
       "std                    0.498263  \n",
       "min                    0.000000  \n",
       "25%                    0.000000  \n",
       "50%                    0.000000  \n",
       "75%                    1.000000  \n",
       "max                    1.000000  \n",
       "\n",
       "[8 rows x 32 columns]"
      ]
     },
     "execution_count": 56,
     "metadata": {},
     "output_type": "execute_result"
    }
   ],
   "source": [
    "test_df.describe()"
   ]
  },
  {
   "cell_type": "code",
   "execution_count": 57,
   "metadata": {},
   "outputs": [],
   "source": [
    "test_df = test_df.drop('Item_Outlet_Sales', axis=1)"
   ]
  },
  {
   "cell_type": "markdown",
   "metadata": {},
   "source": [
    "## Model Building "
   ]
  },
  {
   "cell_type": "code",
   "execution_count": 58,
   "metadata": {},
   "outputs": [],
   "source": [
    "from sklearn.model_selection import train_test_split\n",
    "from sklearn import metrics\n",
    "from sklearn.linear_model import LinearRegression, Lasso, Ridge\n",
    "from sklearn.ensemble import RandomForestRegressor, GradientBoostingRegressor"
   ]
  },
  {
   "cell_type": "code",
   "execution_count": 59,
   "metadata": {},
   "outputs": [],
   "source": [
    "################ Scaling numeric predictors\n",
    "from sklearn.preprocessing import scale\n",
    "scale_combi = scale(train_df)"
   ]
  },
  {
   "cell_type": "code",
   "execution_count": 75,
   "metadata": {},
   "outputs": [
    {
     "name": "stdout",
     "output_type": "stream",
     "text": [
      "(6818, 31)\n",
      "(1705, 31)\n",
      "(6818,)\n",
      "(1705,)\n"
     ]
    }
   ],
   "source": [
    "X = train_df.drop('Item_Outlet_Sales', axis=1).values\n",
    "y = train_df['Item_Outlet_Sales'].values\n",
    "X = scale(X)\n",
    "X_train, X_test, y_train, y_test = train_test_split(X, y, test_size=0.2, random_state=42)\n",
    "\n",
    "print(X_train.shape)\n",
    "print(X_test.shape)\n",
    "print(y_train.shape)\n",
    "print(y_test.shape)"
   ]
  },
  {
   "cell_type": "code",
   "execution_count": 76,
   "metadata": {},
   "outputs": [
    {
     "name": "stdout",
     "output_type": "stream",
     "text": [
      "The slowest run took 4.22 times longer than the fastest. This could mean that an intermediate result is being cached.\n",
      "66 ms ± 34.4 ms per loop (mean ± std. dev. of 7 runs, 10 loops each)\n",
      "MSE: 1552517.2213203951\n",
      "RMSE: 1246.0004900963704\n",
      "MAE: 924.9568897499504\n"
     ]
    }
   ],
   "source": [
    "linreg = LinearRegression(n_jobs=7, normalize=True)\n",
    "%timeit linreg.fit(X_train, y_train)\n",
    "y_pred = linreg.predict(X_test)\n",
    "\n",
    "\n",
    "print('MSE:', metrics.mean_squared_error(y_pred, y_test))\n",
    "print('RMSE:', np.sqrt(metrics.mean_squared_error(y_pred, y_test)))\n",
    "print('MAE:', metrics.mean_absolute_error(y_pred, y_test))"
   ]
  },
  {
   "cell_type": "code",
   "execution_count": 77,
   "metadata": {},
   "outputs": [
    {
     "name": "stdout",
     "output_type": "stream",
     "text": [
      "166 ms ± 8.42 ms per loop (mean ± std. dev. of 7 runs, 1 loop each)\n",
      "MSE: 1545467.384052076\n",
      "RMSE: 1243.1682846871843\n",
      "MAE: 923.0135929351271\n"
     ]
    }
   ],
   "source": [
    "las = Lasso(alpha=0.8)\n",
    "%timeit las.fit(X_train, y_train)\n",
    "y_pred = las.predict(X_test)\n",
    "\n",
    "\n",
    "print('MSE:', metrics.mean_squared_error(y_pred, y_test))\n",
    "print('RMSE:', np.sqrt(metrics.mean_squared_error(y_pred, y_test)))\n",
    "print('MAE:', metrics.mean_absolute_error(y_pred, y_test))"
   ]
  },
  {
   "cell_type": "code",
   "execution_count": 78,
   "metadata": {},
   "outputs": [
    {
     "name": "stdout",
     "output_type": "stream",
     "text": [
      "16.8 ms ± 1.03 ms per loop (mean ± std. dev. of 7 runs, 10 loops each)\n",
      "MSE: 1546053.662726767\n",
      "RMSE: 1243.4040625342861\n",
      "MAE: 923.0918076034742\n"
     ]
    }
   ],
   "source": [
    "ridge = Ridge(alpha=0.05)\n",
    "%timeit ridge.fit(X_train, y_train)\n",
    "y_pred = ridge.predict(X_test)\n",
    "\n",
    "\n",
    "print('MSE:', metrics.mean_squared_error(y_pred, y_test))\n",
    "print('RMSE:', np.sqrt(metrics.mean_squared_error(y_pred, y_test)))\n",
    "print('MAE:', metrics.mean_absolute_error(y_pred, y_test))"
   ]
  },
  {
   "cell_type": "code",
   "execution_count": null,
   "metadata": {},
   "outputs": [],
   "source": []
  },
  {
   "cell_type": "code",
   "execution_count": null,
   "metadata": {},
   "outputs": [],
   "source": []
  },
  {
   "cell_type": "markdown",
   "metadata": {},
   "source": [
    "## Predicting for test set"
   ]
  }
 ],
 "metadata": {
  "kernelspec": {
   "display_name": "Python 3",
   "language": "python",
   "name": "python3"
  },
  "language_info": {
   "codemirror_mode": {
    "name": "ipython",
    "version": 3
   },
   "file_extension": ".py",
   "mimetype": "text/x-python",
   "name": "python",
   "nbconvert_exporter": "python",
   "pygments_lexer": "ipython3",
   "version": "3.6.5"
  }
 },
 "nbformat": 4,
 "nbformat_minor": 2
}
